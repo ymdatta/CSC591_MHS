{
  "nbformat": 4,
  "nbformat_minor": 0,
  "metadata": {
    "colab": {
      "provenance": []
    },
    "kernelspec": {
      "name": "python3",
      "display_name": "Python 3"
    },
    "language_info": {
      "name": "python"
    }
  },
  "cells": [
    {
      "cell_type": "code",
      "execution_count": null,
      "metadata": {
        "colab": {
          "base_uri": "https://localhost:8080/"
        },
        "id": "Irs_h5hHFVQE",
        "outputId": "a60448c4-529f-41ae-9f51-8ad429829a33"
      },
      "outputs": [
        {
          "output_type": "stream",
          "name": "stdout",
          "text": [
            "Drive already mounted at /content/drive; to attempt to forcibly remount, call drive.mount(\"/content/drive\", force_remount=True).\n"
          ]
        }
      ],
      "source": [
        "from google.colab import drive\n",
        "drive.mount('/content/drive')"
      ]
    },
    {
      "cell_type": "code",
      "source": [
        "!pip install librosa pydub noisereduce soundfile"
      ],
      "metadata": {
        "colab": {
          "base_uri": "https://localhost:8080/"
        },
        "id": "FGphO854LoaH",
        "outputId": "0421ccdf-d685-44b7-c4d7-8429f998c3be"
      },
      "execution_count": null,
      "outputs": [
        {
          "output_type": "stream",
          "name": "stdout",
          "text": [
            "Requirement already satisfied: librosa in /usr/local/lib/python3.10/dist-packages (0.10.2.post1)\n",
            "Collecting pydub\n",
            "  Downloading pydub-0.25.1-py2.py3-none-any.whl.metadata (1.4 kB)\n",
            "Collecting noisereduce\n",
            "  Downloading noisereduce-3.0.3-py3-none-any.whl.metadata (14 kB)\n",
            "Requirement already satisfied: soundfile in /usr/local/lib/python3.10/dist-packages (0.12.1)\n",
            "Requirement already satisfied: audioread>=2.1.9 in /usr/local/lib/python3.10/dist-packages (from librosa) (3.0.1)\n",
            "Requirement already satisfied: numpy!=1.22.0,!=1.22.1,!=1.22.2,>=1.20.3 in /usr/local/lib/python3.10/dist-packages (from librosa) (1.26.4)\n",
            "Requirement already satisfied: scipy>=1.2.0 in /usr/local/lib/python3.10/dist-packages (from librosa) (1.13.1)\n",
            "Requirement already satisfied: scikit-learn>=0.20.0 in /usr/local/lib/python3.10/dist-packages (from librosa) (1.5.2)\n",
            "Requirement already satisfied: joblib>=0.14 in /usr/local/lib/python3.10/dist-packages (from librosa) (1.4.2)\n",
            "Requirement already satisfied: decorator>=4.3.0 in /usr/local/lib/python3.10/dist-packages (from librosa) (4.4.2)\n",
            "Requirement already satisfied: numba>=0.51.0 in /usr/local/lib/python3.10/dist-packages (from librosa) (0.60.0)\n",
            "Requirement already satisfied: pooch>=1.1 in /usr/local/lib/python3.10/dist-packages (from librosa) (1.8.2)\n",
            "Requirement already satisfied: soxr>=0.3.2 in /usr/local/lib/python3.10/dist-packages (from librosa) (0.5.0.post1)\n",
            "Requirement already satisfied: typing-extensions>=4.1.1 in /usr/local/lib/python3.10/dist-packages (from librosa) (4.12.2)\n",
            "Requirement already satisfied: lazy-loader>=0.1 in /usr/local/lib/python3.10/dist-packages (from librosa) (0.4)\n",
            "Requirement already satisfied: msgpack>=1.0 in /usr/local/lib/python3.10/dist-packages (from librosa) (1.1.0)\n",
            "Requirement already satisfied: matplotlib in /usr/local/lib/python3.10/dist-packages (from noisereduce) (3.8.0)\n",
            "Requirement already satisfied: tqdm in /usr/local/lib/python3.10/dist-packages (from noisereduce) (4.66.6)\n",
            "Requirement already satisfied: cffi>=1.0 in /usr/local/lib/python3.10/dist-packages (from soundfile) (1.17.1)\n",
            "Requirement already satisfied: pycparser in /usr/local/lib/python3.10/dist-packages (from cffi>=1.0->soundfile) (2.22)\n",
            "Requirement already satisfied: packaging in /usr/local/lib/python3.10/dist-packages (from lazy-loader>=0.1->librosa) (24.2)\n",
            "Requirement already satisfied: llvmlite<0.44,>=0.43.0dev0 in /usr/local/lib/python3.10/dist-packages (from numba>=0.51.0->librosa) (0.43.0)\n",
            "Requirement already satisfied: platformdirs>=2.5.0 in /usr/local/lib/python3.10/dist-packages (from pooch>=1.1->librosa) (4.3.6)\n",
            "Requirement already satisfied: requests>=2.19.0 in /usr/local/lib/python3.10/dist-packages (from pooch>=1.1->librosa) (2.32.3)\n",
            "Requirement already satisfied: threadpoolctl>=3.1.0 in /usr/local/lib/python3.10/dist-packages (from scikit-learn>=0.20.0->librosa) (3.5.0)\n",
            "Requirement already satisfied: contourpy>=1.0.1 in /usr/local/lib/python3.10/dist-packages (from matplotlib->noisereduce) (1.3.1)\n",
            "Requirement already satisfied: cycler>=0.10 in /usr/local/lib/python3.10/dist-packages (from matplotlib->noisereduce) (0.12.1)\n",
            "Requirement already satisfied: fonttools>=4.22.0 in /usr/local/lib/python3.10/dist-packages (from matplotlib->noisereduce) (4.55.0)\n",
            "Requirement already satisfied: kiwisolver>=1.0.1 in /usr/local/lib/python3.10/dist-packages (from matplotlib->noisereduce) (1.4.7)\n",
            "Requirement already satisfied: pillow>=6.2.0 in /usr/local/lib/python3.10/dist-packages (from matplotlib->noisereduce) (11.0.0)\n",
            "Requirement already satisfied: pyparsing>=2.3.1 in /usr/local/lib/python3.10/dist-packages (from matplotlib->noisereduce) (3.2.0)\n",
            "Requirement already satisfied: python-dateutil>=2.7 in /usr/local/lib/python3.10/dist-packages (from matplotlib->noisereduce) (2.8.2)\n",
            "Requirement already satisfied: six>=1.5 in /usr/local/lib/python3.10/dist-packages (from python-dateutil>=2.7->matplotlib->noisereduce) (1.16.0)\n",
            "Requirement already satisfied: charset-normalizer<4,>=2 in /usr/local/lib/python3.10/dist-packages (from requests>=2.19.0->pooch>=1.1->librosa) (3.4.0)\n",
            "Requirement already satisfied: idna<4,>=2.5 in /usr/local/lib/python3.10/dist-packages (from requests>=2.19.0->pooch>=1.1->librosa) (3.10)\n",
            "Requirement already satisfied: urllib3<3,>=1.21.1 in /usr/local/lib/python3.10/dist-packages (from requests>=2.19.0->pooch>=1.1->librosa) (2.2.3)\n",
            "Requirement already satisfied: certifi>=2017.4.17 in /usr/local/lib/python3.10/dist-packages (from requests>=2.19.0->pooch>=1.1->librosa) (2024.8.30)\n",
            "Downloading pydub-0.25.1-py2.py3-none-any.whl (32 kB)\n",
            "Downloading noisereduce-3.0.3-py3-none-any.whl (22 kB)\n",
            "Installing collected packages: pydub, noisereduce\n",
            "Successfully installed noisereduce-3.0.3 pydub-0.25.1\n"
          ]
        }
      ]
    },
    {
      "cell_type": "code",
      "source": [
        "import os\n",
        "import pandas as pd\n",
        "import librosa\n",
        "import librosa.display\n",
        "import numpy as np\n",
        "import matplotlib.pyplot as plt\n",
        "from pydub import AudioSegment\n",
        "import noisereduce as nr\n",
        "import csv\n",
        "import soundfile as sf"
      ],
      "metadata": {
        "id": "tXCzxTV-Lto0"
      },
      "execution_count": null,
      "outputs": []
    },
    {
      "cell_type": "code",
      "source": [
        "is_Mohan = True"
      ],
      "metadata": {
        "id": "tR5HxtJjVwfv"
      },
      "execution_count": null,
      "outputs": []
    },
    {
      "cell_type": "code",
      "source": [
        "if is_Mohan:\n",
        "  audio_dir = '/content/drive/MyDrive/MHA_Proj_Data/Project_Dataset_Release/AUDIO'\n",
        "  metadata_path = '/content/drive/MyDrive/MHA_Proj_Data/Project_Dataset_Release/metadata.csv'\n",
        "  test_base_path = '/content/drive/MyDrive/MHA_Proj_Data/Project_Dataset_Release/LISTS/'\n",
        "else:\n",
        "  audio_dir = '/content/drive/MyDrive/Project_Dataset_Release/AUDIO'\n",
        "  metadata_path = '/content/drive/MyDrive/Project_Dataset_Release/metadata.csv'"
      ],
      "metadata": {
        "id": "tRkhxxbfLy4l"
      },
      "execution_count": null,
      "outputs": []
    },
    {
      "cell_type": "code",
      "source": [
        "id_to_gender = {}\n",
        "id_to_status = {}\n",
        "\n",
        "with open(metadata_path, newline='\\n') as csvfile:\n",
        "    reader = csv.reader(csvfile)\n",
        "    for row in reader:\n",
        "        row_split = row[0].split(' ')\n",
        "        if row_split[0] == 'SUB_ID':\n",
        "            continue\n",
        "        id_to_gender[row_split[0]] = row_split[2]\n",
        "        id_to_status[row_split[0]] = row_split[1]"
      ],
      "metadata": {
        "id": "TffrLTflV944"
      },
      "execution_count": null,
      "outputs": []
    },
    {
      "cell_type": "code",
      "source": [
        "id_to_gender['FONIOYTJ']"
      ],
      "metadata": {
        "colab": {
          "base_uri": "https://localhost:8080/",
          "height": 35
        },
        "id": "L-fJznggWSxF",
        "outputId": "3af73b29-9fb0-42f9-ab98-cbb6c312bcf3"
      },
      "execution_count": null,
      "outputs": [
        {
          "output_type": "execute_result",
          "data": {
            "text/plain": [
              "'m'"
            ],
            "application/vnd.google.colaboratory.intrinsic+json": {
              "type": "string"
            }
          },
          "metadata": {},
          "execution_count": 9
        }
      ]
    },
    {
      "cell_type": "code",
      "source": [
        "train_files = ['train_0.csv', 'train_1.csv', 'train_2.csv', 'train_3.csv', 'train_4.csv']\n",
        "valid_files = ['val_0.csv', 'val_1.csv', 'val_2.csv', 'val_3.csv', 'val_4.csv']"
      ],
      "metadata": {
        "id": "TrI6XNnHKRjY"
      },
      "execution_count": null,
      "outputs": []
    },
    {
      "cell_type": "code",
      "source": [
        "def file_to_IDs(file):\n",
        "    file = test_base_path + file\n",
        "    res = []\n",
        "\n",
        "    with open(file, newline='\\n') as file:\n",
        "      reader = csv.reader(file)\n",
        "      for row in reader:\n",
        "        res.append(row[0])\n",
        "\n",
        "    return res"
      ],
      "metadata": {
        "id": "S_7HErKBOEFx"
      },
      "execution_count": null,
      "outputs": []
    },
    {
      "cell_type": "code",
      "source": [
        "\"\"\"\n",
        "Step 1: You are given an ID:\n",
        "Step 2: Get three audio samples for the ID from AUDIO's breathing, cough, and speech.\n",
        "Step 3: Extract features from each samples.\n",
        "Step 3.1: If it's a positive sample, do augmentation and extract features. Why? To balance +ve and -ve samples.\n",
        "Step 4: Return a list of elements. Each element is further a list with two elements (feature vector and status value)\n",
        "\"\"\"\n",
        "ID = 'FONIOYTJ'\n",
        "Datadir = audio_dir"
      ],
      "metadata": {
        "id": "QlgJVVUrWYcX"
      },
      "execution_count": null,
      "outputs": []
    },
    {
      "cell_type": "code",
      "source": [
        "\"\"\"\n",
        "Data Augmentation ideas:\n",
        "\n",
        "1. Time strech. (Twice as fast and half the original speed)\n",
        "2. Pitch shift. (Shift by a tritone for now)\n",
        "\"\"\"\n",
        "\n",
        "def augmentSignal(y, sr):\n",
        "    try:\n",
        "      y_fast = librosa.effects.time_stretch(y, rate=2.0)\n",
        "      y_slow = librosa.effects.time_stretch(y, rate=0.5)\n",
        "      y_tritone = librosa.effects.pitch_shift(y, sr=sr, n_steps=-6)\n",
        "    except:\n",
        "      return None\n",
        "    return [y, y_fast, y_slow, y_tritone]"
      ],
      "metadata": {
        "id": "78Gp1o34Wkf_"
      },
      "execution_count": null,
      "outputs": []
    },
    {
      "cell_type": "code",
      "source": [
        "def intervalsToSignals(intervals, y):\n",
        "    n, _ = intervals.shape\n",
        "    res = []\n",
        "    for i in range(0, n):\n",
        "        res.append(y[intervals[i][0]:intervals[i][1]])\n",
        "    return res"
      ],
      "metadata": {
        "id": "qwtEuMGgWknS"
      },
      "execution_count": null,
      "outputs": []
    },
    {
      "cell_type": "code",
      "source": [
        "def displaySignal(y):\n",
        "    plt.figure()\n",
        "    librosa.display.waveshow(y=y)\n",
        "    plt.xlabel(\"Time (xsecs) \")\n",
        "    plt.ylabel(\"Amplitude\")\n",
        "    plt.show()"
      ],
      "metadata": {
        "id": "72jqIuABWksh"
      },
      "execution_count": null,
      "outputs": []
    },
    {
      "cell_type": "code",
      "source": [
        "def ID_to_featureVector(ID, train=False):\n",
        "    breathing_y, breathing_s = librosa.load(Datadir + '/breathing/' + ID + '.flac')\n",
        "    cough_y, cough_s = librosa.load(Datadir + '/cough/' + ID + '.flac')\n",
        "    speech_y, speech_s = librosa.load(Datadir + '/speech/' + ID + '.flac')\n",
        "\n",
        "    # Denoise the signal\n",
        "    breathing_y = nr.reduce_noise(y=breathing_y, sr=breathing_s)\n",
        "    cough_y = nr.reduce_noise(y=cough_y, sr=cough_s)\n",
        "    speech_y = nr.reduce_noise(y=speech_y, sr=speech_s)\n",
        "\n",
        "    res = []\n",
        "    is_f = 1 if (id_to_gender[ID] == 'm') else 0\n",
        "\n",
        "    ## Augment only if we are training, not during testing!\n",
        "    if train:\n",
        "      # If it belongs to a positive patient, augment the signal and split it into non-silent intervals.\n",
        "      # [[non-silent signal arrays], sr, male or female information, covid positive or negative information]\n",
        "      if (id_to_status[ID] == 'p'):\n",
        "          for (y, sr) in [(breathing_y, breathing_s), (cough_y, cough_s), (speech_y, speech_s)]:\n",
        "              aug_y = augmentSignal(y, sr)\n",
        "              if aug_y == None:\n",
        "                continue\n",
        "              for y_sig in aug_y:\n",
        "                  intervals = librosa.effects.split(y_sig)\n",
        "                  sSplit = intervalsToSignals(intervals, y_sig)\n",
        "                  for signal in sSplit:\n",
        "                      res.append([signal, sr, is_f])\n",
        "      else:\n",
        "          for (y, sr) in [(breathing_y, breathing_s), (cough_y, cough_s), (speech_y, speech_s)]:\n",
        "              intervals = librosa.effects.split(y)\n",
        "              sSplit = intervalsToSignals(intervals, y)\n",
        "              for signal in sSplit:\n",
        "                  res.append([signal, sr, is_f])\n",
        "    else:\n",
        "        for (y, sr) in [(breathing_y, breathing_s), (cough_y, cough_s), (speech_y, speech_s)]:\n",
        "          aug_y = augmentSignal(y, sr)\n",
        "          if aug_y == None:\n",
        "            continue\n",
        "          for y_sig in aug_y:\n",
        "            intervals = librosa.effects.split(y_sig)\n",
        "            sSplit = intervalsToSignals(intervals, y_sig)\n",
        "            for signal in sSplit:\n",
        "                res.append([signal, sr, is_f])\n",
        "\n",
        "    return res"
      ],
      "metadata": {
        "id": "5mLkw4XEWkvo"
      },
      "execution_count": null,
      "outputs": []
    },
    {
      "cell_type": "code",
      "source": [
        "\"\"\"\n",
        "Obs1: Takes a lot of time to load an ID's three sounds.\n",
        "Obs2: Have everthing at hand, so they maybe used again in the future.\n",
        "\"\"\""
      ],
      "metadata": {
        "colab": {
          "base_uri": "https://localhost:8080/",
          "height": 35
        },
        "id": "dHyurDeYW7cA",
        "outputId": "0920477f-59cc-419e-97dc-623c79616e72"
      },
      "execution_count": null,
      "outputs": [
        {
          "output_type": "execute_result",
          "data": {
            "text/plain": [
              "\"\\nObs1: Takes a lot of time to load an ID's three sounds.\\nObs2: Have everthing at hand, so they maybe used again in the future.\\n\""
            ],
            "application/vnd.google.colaboratory.intrinsic+json": {
              "type": "string"
            }
          },
          "metadata": {},
          "execution_count": 22
        }
      ]
    },
    {
      "cell_type": "code",
      "source": [
        "\"\"\"\n",
        "Extract Features from Processed Signals\n",
        "\"\"\"\n",
        "def extract_features(signal, sr):\n",
        "    features = {}\n",
        "    # Time-domain features\n",
        "    features['zcr'] = np.mean(librosa.feature.zero_crossing_rate(signal))\n",
        "    features['rms'] = np.mean(librosa.feature.rms(y=signal))\n",
        "\n",
        "    # Frequency-domain features\n",
        "    features['spectral_centroid'] = np.mean(librosa.feature.spectral_centroid(y=signal, sr=sr))\n",
        "    features['spectral_bandwidth'] = np.mean(librosa.feature.spectral_bandwidth(y=signal, sr=sr))\n",
        "\n",
        "    # Mel-frequency cepstral coefficients (MFCC)\n",
        "    mfccs = librosa.feature.mfcc(y=signal, sr=sr, n_mfcc=13)\n",
        "    for i, mfcc in enumerate(mfccs):\n",
        "        features[f'mfcc_{i+1}'] = np.mean(mfcc)\n",
        "\n",
        "    return features"
      ],
      "metadata": {
        "id": "w2VGOhAwaRhq"
      },
      "execution_count": null,
      "outputs": []
    },
    {
      "cell_type": "code",
      "source": [
        "\"\"\"\n",
        "Apply Feature Extraction to All Processed Signals\n",
        "Use the output of ID_to_featureVector to extract features for every audio segment.\n",
        "\"\"\"\n",
        "def create_feature_dataset(processed_signals):\n",
        "    dataset = []\n",
        "    res = []\n",
        "    for signal, sr, is_f in processed_signals:\n",
        "        # Extract features for the current signal\n",
        "        features = extract_features(signal, sr)\n",
        "        features['is_female'] = is_f\n",
        "        #features['is_positive'] = is_p\n",
        "        dataset.append(features)\n",
        "\n",
        "    return pd.DataFrame(dataset)"
      ],
      "metadata": {
        "id": "ueIf6Iofa_Fm"
      },
      "execution_count": null,
      "outputs": []
    },
    {
      "cell_type": "code",
      "source": [
        "train_IDs = file_to_IDs('train_0.csv')\n",
        "val_IDs = file_to_IDs('val_0.csv')\n",
        "\n",
        "print(train_IDs)"
      ],
      "metadata": {
        "colab": {
          "base_uri": "https://localhost:8080/"
        },
        "id": "AEhHAughQXca",
        "outputId": "6086e756-ace2-4232-b2d4-e5547cfce476"
      },
      "execution_count": null,
      "outputs": [
        {
          "output_type": "stream",
          "name": "stdout",
          "text": [
            "['NPHYFCYK', 'HTCFAFDO', 'XLIOSZXS', 'FONIOYTJ', 'DZEREGIM', 'YQUPZEUJ', 'OFOILIER', 'BLLALITL', 'YLAXTREN', 'HTVKVBPE', 'GYEZORLW', 'SRTPYIDB', 'MSTBAUCK', 'QMJWRIEU', 'BPXVMOVA', 'FYYDNDDH', 'RHDNXKED', 'VBHKKVHJ', 'WJGZILBZ', 'MBXASRGM', 'OZGVGHCG', 'PMEGFZMU', 'BKCTGCKU', 'OLOJOLQJ', 'QEJJIHWU', 'VBXMIXBC', 'DAOJYZLP', 'VBGUQIFD', 'OOFLPSLD', 'OBZRGYUB', 'MGBAKYDP', 'LNFUNOIQ', 'QWZGKNXN', 'OFVPVUNZ', 'UHUKGHOL', 'SSGGLNQE', 'PRVQTLFF', 'BOPYQXJZ', 'EHEKWVXF', 'TMWZXJNT', 'MHSTXVSO', 'ERYUZYCO', 'HXWFDUNS', 'TZCBTMVG', 'NAKJKWOE', 'BYLIIJIF', 'RKEWQQUP', 'SHMLQOAR', 'GDLUFIGU', 'MJOTTQOC', 'TBYLKZRC', 'IMXXDFSZ', 'CZYRAAVU', 'HZOOWHAU', 'QUEKGCAE', 'QXAOCRAB', 'AHXDHEST', 'TUSNQCSS', 'RHHOTDPX', 'MCNAFCEF', 'YFJNNLJB', 'KKCMMQPS', 'NWKKSYMO', 'BTYFGFGB', 'EADBNFIG', 'FHIRVICU', 'ONOTPBTG', 'MFFYUDJV', 'BJJYNQDQ', 'AHTQDTIL', 'ACLAPDXF', 'LKVIJLIA', 'QATIJZYL', 'MDNRVGIE', 'GHBRVBQV', 'EVKWRRBM', 'HNDBYDNB', 'ZFXYSDHQ', 'RFGZBAAP', 'TKPLQJNH', 'PDIDQEEN', 'ZNBDPXVG', 'XRACSBQI', 'VIPUEPTP', 'DKWCDKOR', 'UUNBNMEU', 'NVSCECDA', 'RIRKLDOP', 'RDPSKHVX', 'EKFFNDJY', 'CLDSLEUZ', 'UPIMUZGL', 'UTGHIFRA', 'VRUGLHAF', 'MMCFMRBY', 'PUUPHMFR', 'OTQNZHOZ', 'LZREFSWI', 'BQNBSELL', 'AXSBGAGC', 'NVDIGDXP', 'OYCFALWR', 'MJUNVFVA', 'JGLFZBMX', 'RWKLHEEK', 'CTARUMOJ', 'WCCCUNGT', 'JBJKLSRU', 'VMBVELLT', 'XHSLIVFZ', 'TVYMBDIW', 'SZKPMRME', 'AATXXRQE', 'JFDWVLPR', 'CDICVECX', 'QQXOACGH', 'CFDCCMXB', 'LPIGMFBS', 'EFKALRTO', 'IZKZCOOI', 'YPYYZZEY', 'WGJGPFYS', 'WPDXXPMP', 'RQARGEVK', 'LJCPVYJA', 'SECEYHKG', 'UUNFXSWL', 'GCWPUSSE', 'OGPPZDKI', 'RSKFHDUD', 'HBGPBVNK', 'JIFGOBDL', 'YUYZEDWL', 'YNRAGKQB', 'IJLZRFWZ', 'RGXQOKTX', 'SGLFVDOV', 'CZOBKKOJ', 'UZRWYLSZ', 'GSXCTFGZ', 'UDGUTECX', 'LPSDPGSW', 'IJQNKWFH', 'QGCTUWYM', 'NBZTVEJL', 'USKMGNIT', 'ZMKMXFPB', 'UHAXJDNH', 'HTUZHMVC', 'GXCWSEIN', 'XSCTDUMG', 'CFTTZNUZ', 'FCRNLSBU', 'XIGZLRQW', 'QIKGTPWR', 'WRCVKPRS', 'PTCHYHZG', 'GAWPRABQ', 'SCEAOMNJ', 'VLGLJOHZ', 'GEJKXDZK', 'FITZMPHI', 'CQNHYYQV', 'VXTYCHWE', 'JZFNZWKU', 'OOBTLUIO', 'PLDVFBJD', 'XQKBFPQJ', 'ONJQQGNW', 'FCXKJTJN', 'QMPIRWJY', 'GNKTWAYU', 'DQLNGDSQ', 'WUNICQWB', 'XDPQUWOB', 'XJSWKJNW', 'IZDSFCGK', 'LOICXJSY', 'TRLATMGO', 'KGSJHWXW', 'EDVGTJME', 'MVGMEJTR', 'YYNTGXHR', 'BDTZXLZB', 'LNQOLTRP', 'XOQEGMWF', 'RZJVAWOW', 'NMGWSZSB', 'JTIPNSRF', 'MTMZQOQU', 'VRWPHPNG', 'HVPRITDR', 'BLKVVIBD', 'ZHYGSXDB', 'SJCYYBAH', 'CVBQXHGH', 'MWMRAFWA', 'MMZKJKFZ', 'FMQPFTDJ', 'JISUZQHJ', 'MJJBCBWD', 'DIJIRFKR', 'OWDNLDWL', 'RRCPLVAJ', 'ETUQCKAJ', 'QIEGQBDV', 'BNOSSCXT', 'WRPUARJU', 'WNMNYPSW', 'TJNXHKLG', 'VHWVLMPZ', 'CRYKVDTJ', 'XPNQSOYR', 'JVGBDGOQ', 'EVNSSADY', 'WGQOILQG', 'FNBGZJGB', 'SSIVVUEB', 'HFVGIGIA', 'KTXQSLVA', 'DAAIPYJU', 'OKQTLZRN', 'MZXKYXPR', 'HFLHVMMB', 'BAJDHDLE', 'PIJSVYUF', 'CILYIJMA', 'PDVWUZWF', 'OTYAODCT', 'PMJCLCIS', 'ONWLHOYP', 'KZXTYOPH', 'EVFRPYTN', 'NWYGJZKY', 'XCELQJNH', 'WIMSSIHS', 'HYYFNYZD', 'IFDSTSRI', 'VFNVWWDN', 'QVVWAVMF', 'PWHWLIJC', 'DGKYFAJM', 'VPKFJEIB', 'OWLIGQEJ', 'HWZGHNUV', 'SACIIKPU', 'YDQGQEJY', 'HYIPCRDX', 'QBBUMYDL', 'UHNIMFEE', 'IRCVNJAP', 'ZTDRNUTC', 'ETCUSZHJ', 'FAYAIBQU', 'RVRUSVFU', 'TXWHQOPP', 'TVLPZLCG', 'UDFCMXSA', 'KBUQINNT', 'TTOILUFY', 'QMDOXZMG', 'MZHJXSTP', 'TLTIYTFU', 'RJNACDMA', 'JXJZAFRH', 'CXLXAECL', 'NXEWOFPP', 'QYDAHFNO', 'ZQXZXBQF', 'KQFFCGAC', 'EIZMRTLF', 'WAHCWJOD', 'QCFUVKCY', 'OVNQDZBN', 'SZEQUURK', 'LKQZGUSO', 'CFOZNKVX', 'WZKVXFBU', 'BMOFMLLF', 'TSFSAKJE', 'THQDJCPA', 'MMIEYFOK', 'KDNSMAHC', 'QTANUPDP', 'WGZWXCAZ', 'JCAVTOWO', 'HZSCMMOT', 'AEVVWNSS', 'QDDCPOTP', 'JSKNCBWT', 'VBDYSBRB', 'AIAEQDZT', 'VLJWJSJA', 'CAJBBDGE', 'PKQTMYSJ', 'CILDWOEA', 'RCKSGRZU', 'FTQQDOIM', 'XBMYMBNI', 'GOPVPXYE', 'FBINBZWT', 'FGGZCWFV', 'DNDKRUID', 'OKKURGBW', 'TDBTOYWI', 'XTBNODYV', 'XXPRRNNB', 'TWJITJJK', 'JPGVRSKH', 'EKOHCANS', 'MRCAUGQD', 'IFEZNKJP', 'ZWOBBPQH', 'CBTOQZAE', 'QNLEWKPH', 'PKUZJUOW', 'EWGIZLWB', 'PZIXLYOY', 'VEZLFNEL', 'XOFYAGOX', 'HCZZQPKF', 'JHIFUBTN', 'MYWFDEIO', 'PYJRHKQL', 'HPBOLRXN', 'JYDGBSYL', 'QTPIOXBP', 'IOZVRELD', 'TVBNLTWK', 'POFSFOUV', 'OCWHDAAF', 'REXOHNHU', 'HPEJPIRC', 'CAUFHZEE', 'XDMUAMWN', 'HBXGTLVD', 'UYESHKIZ', 'XCZYMKHV', 'LUQKGBJU', 'IISJGBHF', 'HYVVAWMV', 'PLYCCWYO', 'VYMBASHB', 'BKCTERDN', 'QASKTBON', 'HKIDSGWC', 'KPTENCMG', 'NUXMKRTG', 'YABQTANE', 'CMMJYEXY', 'VFMLUBVA', 'AXXYUZNB', 'ITUVXRGB', 'MPTKQFYC', 'CHPEIPIH', 'CWOOGTGM', 'BGQINZDF', 'BQAFNMCP', 'KHBVGVRW', 'AKZNODSB', 'MKNEBWST', 'GZGAYWBV', 'KTWEOGEF', 'ZBSUMCIO', 'VVUGGXWW', 'ESAJHQUY', 'FISKGDQI', 'QCSVTKAG', 'NIPDEULM', 'FYMQUHLA', 'AQPORRMJ', 'FMIQSEEK', 'AQYCPTGU', 'QGLJOBJY', 'ZMOCHYWQ', 'ZDQBWRHT', 'ONANMZAM', 'EFGPFZEK', 'WBHPRNAP', 'PQOANEDF', 'RVEBFGPA', 'JABBZRHY', 'RNRWJMQY', 'TIKMUJBL', 'KFNSNSYN', 'FBGTCZDE', 'FZOBENWW', 'BMPQEXLH', 'XBAINOHF', 'EQBWYXXN', 'KRFGQQOT', 'NGDWKOJW', 'FRYSHWOF', 'LUWHROSH', 'XUDJFRGQ', 'VMVKRXVL', 'YJDSGPWL', 'CDKOVAAF', 'BFLCOJQF', 'EAKGCVDI', 'ZTYKLVVK', 'MSBVHAZR', 'AEKPKDAQ', 'QDJYGTTH', 'ORFSQAOL', 'SFFACVGJ', 'BAHAIBOR', 'ZVDOEVEZ', 'JCQYJDPD', 'CXPCODCN', 'DMPHGMRR', 'GEOVUQZY', 'ZAMULFCD', 'NKJBUQCM', 'LJDZFUDF', 'IJJRDWYC', 'TWRYLYTW', 'TLPYAZFN', 'TUZJZIEN', 'ZKHTQNVS', 'SFNJPWPN', 'DNJLMNSQ', 'FDMTSKPE', 'HUDPGNFQ', 'VSFMQRIN', 'PNZLKRBL', 'HUCGUQGH', 'YNMPOWMJ', 'DHJQCQRM', 'WOSMSWIS', 'KMOXPLUW', 'GQTXDFXJ', 'RENULYPT', 'CHFOOVXI', 'UKCBKMQI', 'WNNQZYNF', 'QGYDKYQQ', 'XOEMICRX', 'SLDFYASD', 'ISIFMIBD', 'YJPRNDYV', 'XQVWVWZA', 'MCKUCVCT', 'MUHWKEZJ', 'PPZYQLAE', 'RFOTZFAP', 'KAINOELW', 'JLFHIEXD', 'MIQXTRFE', 'ILDGBTKL', 'CILWQDUL', 'CYQWSHIY', 'LSINIRUQ', 'OQRBAXQB', 'ILTNBDSW', 'MRPWKEZE', 'AFMGBOAW', 'UTRLGUCS', 'BLIXBFUJ', 'BEZPREAA', 'BPYMHHWL', 'WNMVYPYC', 'CEGWOSJH', 'OPCIRRLE', 'TSKYEVMV', 'NTMWMAKP', 'PMFTVRRS', 'HHICXDDX', 'VAWXIJDH', 'RATHNBXM', 'NKRCUEMH', 'CVVXCBXQ', 'YDCZWUOH', 'QGFCKCMR', 'PVOBFOGQ', 'WBZAAXVF', 'KDTFWVIN', 'HRAMCPHD', 'TSZUKQEY', 'WURNMMKC', 'SLEAVGLQ', 'OQEKLFQD', 'HDNGEKSR', 'CEESRFAY', 'NCOVLAVX', 'WJYRNUDG', 'FUFAQZZF', 'GGRHQOKX', 'HNRZFYVZ', 'YFIRDUDE', 'ZHBVQRYX', 'PSJPQAEO', 'DQZJUHKF', 'JSZMZDPR', 'VLUGCLGQ', 'OUJTPFFY', 'QXIZREKM', 'WKPYQEPK', 'NODJFFZA', 'ILFDYDWF', 'MCPGSBRU', 'THMGPHOF', 'FVHRHOZO', 'TEOWORGS', 'YEXLSOIQ', 'QJNDSOVZ', 'FBQPAXSW', 'ZWPLLIDN', 'ULFDXYAB', 'OBJXHJNV', 'LOVHVSMD', 'CPANEIEB', 'RXUBUCCN', 'LFIBGWEJ', 'ELKRANRQ', 'LNMVQXHA', 'WIFHVYIP', 'NMIAEGCX', 'PJLJEORH', 'ZMFAELDN', 'VWJFOBTG', 'GZSOKKGU', 'BJZNZTMY', 'KECMMMNP', 'TFPVBTJK', 'MYQKATFS', 'AWLIQFHX', 'DMILFZNV', 'FPRJSKVG', 'GXUQHPPN', 'QMEFBDBH', 'UIKPAYTQ', 'JPDVYSGP', 'VSOQCRRM', 'WSGPSGGD', 'VFYJDSHE', 'WDEZVJVD', 'MXPLZZHQ', 'XJKRNFZY', 'KWPAYCJY', 'PYAQLXFV', 'EUANSICC', 'RKPEMSJZ', 'FNJTPUTE', 'MJWDQQMZ', 'XRAYBFVF', 'DBXEBUVF', 'MAQNUZTX', 'YNXJUZLA', 'KLVYKAQX', 'ZZMCBPNY', 'SWLXYKOA', 'PICKYGGB', 'SDNWKUNV', 'YGBLGZEF', 'OZRROOCL', 'EFVTSQNK', 'ZSNOUBNJ', 'ZBMFULWZ', 'KFOWNALN', 'KIOUCLNC', 'PBMZKAMG', 'PBVRFNMC', 'YGWHDXWN', 'JREHYICU', 'DJGRCEOS', 'ASGERLCQ', 'VVZDPYMS', 'CSWGJXWP', 'RFDLXSQR', 'EADSJIPK', 'KKUXVCWL', 'MRVTUMNZ', 'BGQKVUHH', 'MRRLIWHA', 'GRQNNTXK', 'LBJXCOQG', 'XLSGYZFW', 'SWSNHYXQ', 'FBFXHWRE', 'NRIKZRIX', 'AGVUCEHF', 'ZKADNZII', 'DDZQLYQB', 'YTHOSZYQ', 'IABKNPNG', 'BOGBJKJR', 'BRFBRYNH', 'ZKZJWUUK', 'HGIMLAQT', 'KIYVGTOH', 'COOXTATD', 'MTWGTXLO', 'SSCKVNDN', 'FGTNZSTY', 'RBBOQYEV', 'CGIBOVKK', 'DQEMIVYM', 'CZXZWJOY', 'KIOIRSIP', 'CTYJXVRA', 'RNULDCCD', 'GIOMHKGH', 'DHGQCKVV', 'QJQJBBZN', 'QRSGHRRE', 'TXLCWXKB', 'LOKISRFN', 'SJQBYREA', 'PKFFCBBV', 'JYGPPNLO', 'ZUHFTYAC', 'DGVBOXRD', 'EWLUREWH', 'GCJFDYCF', 'KWBDTRUO', 'CTVXCLUT', 'IOXRXLGN', 'XWMNUSQF', 'MTKDWKLF', 'RCUOLUZF', 'YOQQZIMH', 'RDACIDXE', 'TUIUXGMR', 'TFVKGBYX', 'HJGWRTCO', 'UQPZHUKM', 'XUGFKOZJ', 'WEOSJWAR', 'LKKFKPCL', 'DGHMRMCD', 'BLPXKKFI', 'XEQWVUAB', 'AWBEGKDR', 'SGISFSZA', 'GSCDSZVF', 'RCNCGHRA', 'VDYIGEGY', 'ILQLERFN', 'JLISAUWH', 'WXWPGFPH', 'RCROGMKQ', 'YAFNLTYD', 'IFPRPNRB', 'VVXAOBIQ', 'RSNVHYQJ', 'FGYDTCSG', 'RTHBTMSA', 'FXTZOQME', 'VBIAHODB', 'KXYGVTKN', 'EJVCCKSN', 'IMVMQMPG', 'PADSFUKF', 'BOMXACHU', 'OMVQVWZD', 'DRMJWSBI', 'UVNYKHCA', 'FTBMVHFC', 'UEIFRCTO', 'RIGPNZYT', 'SBGLANZL', 'CKRDCAJH', 'AFOHJNUB', 'LWWBEEQE', 'XALJVEOO', 'WGLAXOFO', 'YSRLDVCS', 'VDSQQXMU', 'HKBIVTRW', 'RKSAIEOB', 'VIHAYLIR', 'EJUCFCMP', 'QXNGHUAD', 'IQYUYXTF', 'AXWINTYF', 'ZOHJBAHB', 'ALBIXZJY', 'HBJDPFKX', 'SOAJJJRJ', 'PXOBLVGW', 'HMUZRBFK', 'ZOIYEWCJ', 'ZUYTFZYB', 'KDYLNCDL', 'AKEKAWSC', 'BWXXVSVX', 'TTJCNUWS', 'ZDEBFQCC', 'MFOVBTXY', 'NAQJDQRR', 'ARVDHJXU', 'MPTVAMFL', 'HJVPBHIK', 'YJMSPOGD', 'EHHDACVI', 'IOHZIUVB', 'SRAVSZTB', 'WHDWROXM', 'UFEPYKMD', 'PGBDRKJQ', 'DZWZGUXL', 'THSEVCAS', 'XDZIBGME', 'LDXQBHQV', 'JXCPSHIB', 'BOFQIUDZ', 'YOIZLTMI', 'EEFEJDNQ', 'RLAOCLTO', 'UAWKKNHF', 'UVTEGCPD', 'RAZZZUHF', 'JQLDLKIU', 'VLQKSTCA', 'VMZHVYBP', 'RACYUHKY', 'EKDSASKT', 'UQMJSSEM', 'BIATZVOE', 'YVZNNTAW', 'DXMUJJZO', 'ZYSOZDNN', 'IQLDNYJA', 'VDGXGAKJ', 'VKQYYUNP', 'KMKQNPHM', 'YJYUSESA', 'RAQRLISN', 'BVOJGHZS', 'IZNQFPTZ', 'GPGASWOP', 'NOYALWYW', 'XOXIOPIG', 'JGFKEWPJ', 'ALVEHKKL', 'MTVTPSZZ', 'XAWZQFQZ', 'JKWWXNJA', 'AHZMVOLO', 'YTUUEWTN', 'GNIJMSNO', 'BYDNBEEK', 'HRDZUCAZ', 'ABEEJBTZ', 'DOBXWEAK', 'LWGYMJSP', 'ABVXITDD', 'TFNTVHHQ', 'KFDUHMPN', 'TFGKRHUM', 'UFQSDOZX', 'UWYAUHCW', 'EMRLKJCU', 'ETTUXRXB', 'ZALDIGPM', 'ZIVMGJDH', 'PRAXIPZS', 'GLWCAKZT', 'BQDUGOVT', 'GDWOVBBO', 'MEVKZFWH', 'XKSBYHAB', 'ASFNYPIP', 'YVOTIZVE', 'JRIDBTOH', 'UXWQTBMI', 'DKXPLQIT', 'BYSOGHCZ', 'CEWKRUIC', 'RHLWBBCI']\n"
          ]
        }
      ]
    },
    {
      "cell_type": "code",
      "source": [
        "features_df = []\n",
        "positives_df = []\n",
        "\n",
        "doneIDs = []\n",
        "fdf = {}"
      ],
      "metadata": {
        "id": "2NIAbbzThz7_"
      },
      "execution_count": null,
      "outputs": []
    },
    {
      "cell_type": "code",
      "source": [
        "for ID in train_IDs:\n",
        "  print(ID)\n",
        "\n",
        "  if ID in doneIDs:\n",
        "    features_df.append(fdf[ID])\n",
        "    positives_df.append(0 if id_to_status[ID] == 'n' else 1)\n",
        "\n",
        "  fV = ID_to_featureVector(ID, train=True)\n",
        "  fdf[ID] = create_feature_dataset(fV)\n",
        "  features_df.append(fdf[ID])\n",
        "  positives_df.append(0 if id_to_status[ID] == 'n' else 1)\n",
        "\n"
      ],
      "metadata": {
        "colab": {
          "base_uri": "https://localhost:8080/"
        },
        "id": "MOGh3KhwQls8",
        "outputId": "dd6d48ea-1e1f-4011-b4ee-68f2ea14671d"
      },
      "execution_count": null,
      "outputs": [
        {
          "metadata": {
            "tags": null
          },
          "name": "stdout",
          "output_type": "stream",
          "text": [
            "NPHYFCYK\n",
            "HTCFAFDO\n",
            "XLIOSZXS\n"
          ]
        },
        {
          "metadata": {
            "tags": null
          },
          "name": "stderr",
          "output_type": "stream",
          "text": [
            "/usr/local/lib/python3.10/dist-packages/librosa/core/spectrum.py:266: UserWarning: n_fft=2048 is too large for input signal of length=512\n",
            "  warnings.warn(\n"
          ]
        },
        {
          "metadata": {
            "tags": null
          },
          "name": "stdout",
          "output_type": "stream",
          "text": [
            "FONIOYTJ\n",
            "DZEREGIM\n"
          ]
        },
        {
          "metadata": {
            "tags": null
          },
          "name": "stderr",
          "output_type": "stream",
          "text": [
            "/usr/local/lib/python3.10/dist-packages/librosa/core/spectrum.py:266: UserWarning: n_fft=2048 is too large for input signal of length=1536\n",
            "  warnings.warn(\n"
          ]
        },
        {
          "metadata": {
            "tags": null
          },
          "name": "stdout",
          "output_type": "stream",
          "text": [
            "YQUPZEUJ\n",
            "OFOILIER\n",
            "BLLALITL\n",
            "YLAXTREN\n",
            "HTVKVBPE\n",
            "GYEZORLW\n",
            "SRTPYIDB\n",
            "MSTBAUCK\n",
            "QMJWRIEU\n",
            "BPXVMOVA\n",
            "FYYDNDDH\n",
            "RHDNXKED\n",
            "VBHKKVHJ\n",
            "WJGZILBZ\n"
          ]
        },
        {
          "metadata": {
            "tags": null
          },
          "name": "stderr",
          "output_type": "stream",
          "text": [
            "/usr/local/lib/python3.10/dist-packages/librosa/core/spectrum.py:266: UserWarning: n_fft=2048 is too large for input signal of length=1024\n",
            "  warnings.warn(\n"
          ]
        },
        {
          "metadata": {
            "tags": null
          },
          "name": "stdout",
          "output_type": "stream",
          "text": [
            "MBXASRGM\n",
            "OZGVGHCG\n",
            "PMEGFZMU\n",
            "BKCTGCKU\n",
            "OLOJOLQJ\n"
          ]
        },
        {
          "metadata": {
            "tags": null
          },
          "name": "stderr",
          "output_type": "stream",
          "text": [
            "/usr/local/lib/python3.10/dist-packages/librosa/core/spectrum.py:266: UserWarning: n_fft=2048 is too large for input signal of length=1588\n",
            "  warnings.warn(\n"
          ]
        },
        {
          "metadata": {
            "tags": null
          },
          "name": "stdout",
          "output_type": "stream",
          "text": [
            "QEJJIHWU\n"
          ]
        },
        {
          "metadata": {
            "tags": null
          },
          "name": "stderr",
          "output_type": "stream",
          "text": [
            "/usr/local/lib/python3.10/dist-packages/librosa/core/spectrum.py:266: UserWarning: n_fft=2048 is too large for input signal of length=1204\n",
            "  warnings.warn(\n"
          ]
        },
        {
          "metadata": {
            "tags": null
          },
          "name": "stdout",
          "output_type": "stream",
          "text": [
            "VBXMIXBC\n",
            "DAOJYZLP\n",
            "VBGUQIFD\n",
            "OOFLPSLD\n",
            "OBZRGYUB\n",
            "MGBAKYDP\n",
            "LNFUNOIQ\n",
            "QWZGKNXN\n",
            "OFVPVUNZ\n",
            "UHUKGHOL\n",
            "SSGGLNQE\n",
            "PRVQTLFF\n",
            "BOPYQXJZ\n",
            "EHEKWVXF\n",
            "TMWZXJNT\n",
            "MHSTXVSO\n",
            "ERYUZYCO\n",
            "HXWFDUNS\n",
            "TZCBTMVG\n",
            "NAKJKWOE\n",
            "BYLIIJIF\n",
            "RKEWQQUP\n",
            "SHMLQOAR\n",
            "GDLUFIGU\n",
            "MJOTTQOC\n",
            "TBYLKZRC\n"
          ]
        },
        {
          "metadata": {
            "tags": null
          },
          "name": "stderr",
          "output_type": "stream",
          "text": [
            "/usr/local/lib/python3.10/dist-packages/librosa/core/spectrum.py:266: UserWarning: n_fft=2048 is too large for input signal of length=1984\n",
            "  warnings.warn(\n"
          ]
        },
        {
          "metadata": {
            "tags": null
          },
          "name": "stdout",
          "output_type": "stream",
          "text": [
            "IMXXDFSZ\n",
            "CZYRAAVU\n",
            "HZOOWHAU\n",
            "QUEKGCAE\n",
            "QXAOCRAB\n",
            "AHXDHEST\n"
          ]
        },
        {
          "metadata": {
            "tags": null
          },
          "name": "stderr",
          "output_type": "stream",
          "text": [
            "/usr/local/lib/python3.10/dist-packages/librosa/core/spectrum.py:266: UserWarning: n_fft=2048 is too large for input signal of length=1664\n",
            "  warnings.warn(\n"
          ]
        },
        {
          "metadata": {
            "tags": null
          },
          "name": "stdout",
          "output_type": "stream",
          "text": [
            "TUSNQCSS\n",
            "RHHOTDPX\n",
            "MCNAFCEF\n",
            "YFJNNLJB\n",
            "KKCMMQPS\n",
            "NWKKSYMO\n",
            "BTYFGFGB\n",
            "EADBNFIG\n",
            "FHIRVICU\n",
            "ONOTPBTG\n",
            "MFFYUDJV\n",
            "BJJYNQDQ\n",
            "AHTQDTIL\n",
            "ACLAPDXF\n",
            "LKVIJLIA\n",
            "QATIJZYL\n",
            "MDNRVGIE\n",
            "GHBRVBQV\n",
            "EVKWRRBM\n",
            "HNDBYDNB\n",
            "ZFXYSDHQ\n",
            "RFGZBAAP\n",
            "TKPLQJNH\n",
            "PDIDQEEN\n",
            "ZNBDPXVG\n",
            "XRACSBQI\n"
          ]
        },
        {
          "metadata": {
            "tags": null
          },
          "name": "stderr",
          "output_type": "stream",
          "text": [
            "/usr/local/lib/python3.10/dist-packages/librosa/core/spectrum.py:266: UserWarning: n_fft=2048 is too large for input signal of length=1997\n",
            "  warnings.warn(\n"
          ]
        },
        {
          "metadata": {
            "tags": null
          },
          "name": "stdout",
          "output_type": "stream",
          "text": [
            "VIPUEPTP\n",
            "DKWCDKOR\n",
            "UUNBNMEU\n",
            "NVSCECDA\n",
            "RIRKLDOP\n",
            "RDPSKHVX\n",
            "EKFFNDJY\n",
            "CLDSLEUZ\n",
            "UPIMUZGL\n"
          ]
        },
        {
          "metadata": {
            "tags": null
          },
          "name": "stderr",
          "output_type": "stream",
          "text": [
            "/usr/local/lib/python3.10/dist-packages/librosa/core/spectrum.py:266: UserWarning: n_fft=2048 is too large for input signal of length=1447\n",
            "  warnings.warn(\n"
          ]
        },
        {
          "metadata": {
            "tags": null
          },
          "name": "stdout",
          "output_type": "stream",
          "text": [
            "UTGHIFRA\n",
            "VRUGLHAF\n",
            "MMCFMRBY\n",
            "PUUPHMFR\n",
            "OTQNZHOZ\n"
          ]
        },
        {
          "metadata": {
            "tags": null
          },
          "name": "stderr",
          "output_type": "stream",
          "text": [
            "/usr/local/lib/python3.10/dist-packages/librosa/core/spectrum.py:266: UserWarning: n_fft=2048 is too large for input signal of length=1792\n",
            "  warnings.warn(\n"
          ]
        },
        {
          "metadata": {
            "tags": null
          },
          "name": "stdout",
          "output_type": "stream",
          "text": [
            "LZREFSWI\n",
            "BQNBSELL\n",
            "AXSBGAGC\n",
            "NVDIGDXP\n",
            "OYCFALWR\n",
            "MJUNVFVA\n",
            "JGLFZBMX\n",
            "RWKLHEEK\n",
            "CTARUMOJ\n",
            "WCCCUNGT\n",
            "JBJKLSRU\n",
            "VMBVELLT\n",
            "XHSLIVFZ\n",
            "TVYMBDIW\n",
            "SZKPMRME\n",
            "AATXXRQE\n",
            "JFDWVLPR\n",
            "CDICVECX\n",
            "QQXOACGH\n",
            "CFDCCMXB\n",
            "LPIGMFBS\n",
            "EFKALRTO\n"
          ]
        },
        {
          "metadata": {
            "tags": null
          },
          "name": "stderr",
          "output_type": "stream",
          "text": [
            "/usr/local/lib/python3.10/dist-packages/librosa/core/spectrum.py:266: UserWarning: n_fft=2048 is too large for input signal of length=960\n",
            "  warnings.warn(\n"
          ]
        },
        {
          "metadata": {
            "tags": null
          },
          "name": "stdout",
          "output_type": "stream",
          "text": [
            "IZKZCOOI\n",
            "YPYYZZEY\n",
            "WGJGPFYS\n",
            "WPDXXPMP\n",
            "RQARGEVK\n",
            "LJCPVYJA\n",
            "SECEYHKG\n",
            "UUNFXSWL\n",
            "GCWPUSSE\n",
            "OGPPZDKI\n",
            "RSKFHDUD\n",
            "HBGPBVNK\n"
          ]
        },
        {
          "metadata": {
            "tags": null
          },
          "name": "stderr",
          "output_type": "stream",
          "text": [
            "/usr/local/lib/python3.10/dist-packages/librosa/core/spectrum.py:266: UserWarning: n_fft=2048 is too large for input signal of length=1780\n",
            "  warnings.warn(\n"
          ]
        },
        {
          "metadata": {
            "tags": null
          },
          "name": "stdout",
          "output_type": "stream",
          "text": [
            "JIFGOBDL\n",
            "YUYZEDWL\n",
            "YNRAGKQB\n",
            "IJLZRFWZ\n",
            "RGXQOKTX\n",
            "SGLFVDOV\n",
            "CZOBKKOJ\n",
            "UZRWYLSZ\n",
            "GSXCTFGZ\n",
            "UDGUTECX\n",
            "LPSDPGSW\n",
            "IJQNKWFH\n",
            "QGCTUWYM\n",
            "NBZTVEJL\n",
            "USKMGNIT\n",
            "ZMKMXFPB\n",
            "UHAXJDNH\n",
            "HTUZHMVC\n",
            "GXCWSEIN\n",
            "XSCTDUMG\n"
          ]
        },
        {
          "metadata": {
            "tags": null
          },
          "name": "stderr",
          "output_type": "stream",
          "text": [
            "/usr/local/lib/python3.10/dist-packages/librosa/core/spectrum.py:266: UserWarning: n_fft=2048 is too large for input signal of length=1063\n",
            "  warnings.warn(\n"
          ]
        },
        {
          "metadata": {
            "tags": null
          },
          "name": "stdout",
          "output_type": "stream",
          "text": [
            "CFTTZNUZ\n",
            "FCRNLSBU\n",
            "XIGZLRQW\n",
            "QIKGTPWR\n"
          ]
        },
        {
          "metadata": {
            "tags": null
          },
          "name": "stderr",
          "output_type": "stream",
          "text": [
            "/usr/local/lib/python3.10/dist-packages/librosa/core/spectrum.py:266: UserWarning: n_fft=2048 is too large for input signal of length=1088\n",
            "  warnings.warn(\n"
          ]
        },
        {
          "metadata": {
            "tags": null
          },
          "name": "stdout",
          "output_type": "stream",
          "text": [
            "WRCVKPRS\n",
            "PTCHYHZG\n",
            "GAWPRABQ\n",
            "SCEAOMNJ\n",
            "VLGLJOHZ\n",
            "GEJKXDZK\n",
            "FITZMPHI\n",
            "CQNHYYQV\n",
            "VXTYCHWE\n",
            "JZFNZWKU\n",
            "OOBTLUIO\n",
            "PLDVFBJD\n",
            "XQKBFPQJ\n",
            "ONJQQGNW\n",
            "FCXKJTJN\n",
            "QMPIRWJY\n",
            "GNKTWAYU\n",
            "DQLNGDSQ\n",
            "WUNICQWB\n",
            "XDPQUWOB\n",
            "XJSWKJNW\n",
            "IZDSFCGK\n"
          ]
        },
        {
          "metadata": {
            "tags": null
          },
          "name": "stderr",
          "output_type": "stream",
          "text": [
            "/usr/local/lib/python3.10/dist-packages/librosa/core/spectrum.py:266: UserWarning: n_fft=2048 is too large for input signal of length=1293\n",
            "  warnings.warn(\n"
          ]
        },
        {
          "metadata": {
            "tags": null
          },
          "name": "stdout",
          "output_type": "stream",
          "text": [
            "LOICXJSY\n",
            "TRLATMGO\n",
            "KGSJHWXW\n",
            "EDVGTJME\n",
            "MVGMEJTR\n",
            "YYNTGXHR\n",
            "BDTZXLZB\n",
            "LNQOLTRP\n",
            "XOQEGMWF\n",
            "RZJVAWOW\n",
            "NMGWSZSB\n",
            "JTIPNSRF\n",
            "MTMZQOQU\n",
            "VRWPHPNG\n",
            "HVPRITDR\n",
            "BLKVVIBD\n",
            "ZHYGSXDB\n"
          ]
        },
        {
          "metadata": {
            "tags": null
          },
          "name": "stderr",
          "output_type": "stream",
          "text": [
            "/usr/local/lib/python3.10/dist-packages/librosa/core/spectrum.py:266: UserWarning: n_fft=2048 is too large for input signal of length=935\n",
            "  warnings.warn(\n"
          ]
        },
        {
          "metadata": {
            "tags": null
          },
          "name": "stdout",
          "output_type": "stream",
          "text": [
            "SJCYYBAH\n",
            "CVBQXHGH\n",
            "MWMRAFWA\n"
          ]
        },
        {
          "metadata": {
            "tags": null
          },
          "name": "stderr",
          "output_type": "stream",
          "text": [
            "/usr/local/lib/python3.10/dist-packages/librosa/core/spectrum.py:266: UserWarning: n_fft=2048 is too large for input signal of length=1895\n",
            "  warnings.warn(\n"
          ]
        },
        {
          "metadata": {
            "tags": null
          },
          "name": "stdout",
          "output_type": "stream",
          "text": [
            "MMZKJKFZ\n",
            "FMQPFTDJ\n",
            "JISUZQHJ\n",
            "MJJBCBWD\n",
            "DIJIRFKR\n",
            "OWDNLDWL\n",
            "RRCPLVAJ\n",
            "ETUQCKAJ\n"
          ]
        },
        {
          "metadata": {
            "tags": null
          },
          "name": "stderr",
          "output_type": "stream",
          "text": [
            "/usr/local/lib/python3.10/dist-packages/noisereduce/spectralgate/nonstationary.py:70: RuntimeWarning: invalid value encountered in divide\n",
            "  sig_mult_above_thresh = (abs_sig_stft - sig_stft_smooth) / sig_stft_smooth\n"
          ]
        },
        {
          "metadata": {
            "tags": null
          },
          "name": "stdout",
          "output_type": "stream",
          "text": [
            "QIEGQBDV\n",
            "BNOSSCXT\n",
            "WRPUARJU\n",
            "WNMNYPSW\n",
            "TJNXHKLG\n",
            "VHWVLMPZ\n"
          ]
        },
        {
          "metadata": {
            "tags": null
          },
          "name": "stderr",
          "output_type": "stream",
          "text": [
            "/usr/local/lib/python3.10/dist-packages/librosa/core/spectrum.py:266: UserWarning: n_fft=2048 is too large for input signal of length=1549\n",
            "  warnings.warn(\n"
          ]
        },
        {
          "metadata": {
            "tags": null
          },
          "name": "stdout",
          "output_type": "stream",
          "text": [
            "CRYKVDTJ\n",
            "XPNQSOYR\n",
            "JVGBDGOQ\n",
            "EVNSSADY\n",
            "WGQOILQG\n",
            "FNBGZJGB\n",
            "SSIVVUEB\n",
            "HFVGIGIA\n",
            "KTXQSLVA\n",
            "DAAIPYJU\n",
            "OKQTLZRN\n",
            "MZXKYXPR\n",
            "HFLHVMMB\n",
            "BAJDHDLE\n",
            "PIJSVYUF\n",
            "CILYIJMA\n",
            "PDVWUZWF\n",
            "OTYAODCT\n",
            "PMJCLCIS\n",
            "ONWLHOYP\n",
            "KZXTYOPH\n",
            "EVFRPYTN\n",
            "NWYGJZKY\n",
            "XCELQJNH\n",
            "WIMSSIHS\n",
            "HYYFNYZD\n",
            "IFDSTSRI\n"
          ]
        },
        {
          "metadata": {
            "tags": null
          },
          "name": "stderr",
          "output_type": "stream",
          "text": [
            "/usr/local/lib/python3.10/dist-packages/librosa/core/spectrum.py:266: UserWarning: n_fft=2048 is too large for input signal of length=948\n",
            "  warnings.warn(\n",
            "/usr/local/lib/python3.10/dist-packages/librosa/core/spectrum.py:266: UserWarning: n_fft=2048 is too large for input signal of length=1268\n",
            "  warnings.warn(\n"
          ]
        },
        {
          "metadata": {
            "tags": null
          },
          "name": "stdout",
          "output_type": "stream",
          "text": [
            "VFNVWWDN\n",
            "QVVWAVMF\n",
            "PWHWLIJC\n",
            "DGKYFAJM\n",
            "VPKFJEIB\n",
            "OWLIGQEJ\n",
            "HWZGHNUV\n",
            "SACIIKPU\n"
          ]
        },
        {
          "metadata": {
            "tags": null
          },
          "name": "stderr",
          "output_type": "stream",
          "text": [
            "/usr/local/lib/python3.10/dist-packages/librosa/core/spectrum.py:266: UserWarning: n_fft=2048 is too large for input signal of length=1101\n",
            "  warnings.warn(\n"
          ]
        },
        {
          "metadata": {
            "tags": null
          },
          "name": "stdout",
          "output_type": "stream",
          "text": [
            "YDQGQEJY\n",
            "HYIPCRDX\n"
          ]
        },
        {
          "metadata": {
            "tags": null
          },
          "name": "stderr",
          "output_type": "stream",
          "text": [
            "/usr/local/lib/python3.10/dist-packages/librosa/core/spectrum.py:266: UserWarning: n_fft=2048 is too large for input signal of length=1703\n",
            "  warnings.warn(\n"
          ]
        },
        {
          "metadata": {
            "tags": null
          },
          "name": "stdout",
          "output_type": "stream",
          "text": [
            "QBBUMYDL\n",
            "UHNIMFEE\n",
            "IRCVNJAP\n",
            "ZTDRNUTC\n",
            "ETCUSZHJ\n",
            "FAYAIBQU\n",
            "RVRUSVFU\n",
            "TXWHQOPP\n",
            "TVLPZLCG\n",
            "UDFCMXSA\n",
            "KBUQINNT\n",
            "TTOILUFY\n",
            "QMDOXZMG\n",
            "MZHJXSTP\n",
            "TLTIYTFU\n",
            "RJNACDMA\n",
            "JXJZAFRH\n",
            "CXLXAECL\n",
            "NXEWOFPP\n",
            "QYDAHFNO\n",
            "ZQXZXBQF\n",
            "KQFFCGAC\n",
            "EIZMRTLF\n",
            "WAHCWJOD\n",
            "QCFUVKCY\n",
            "OVNQDZBN\n",
            "SZEQUURK\n",
            "LKQZGUSO\n",
            "CFOZNKVX\n",
            "WZKVXFBU\n",
            "BMOFMLLF\n",
            "TSFSAKJE\n",
            "THQDJCPA\n",
            "MMIEYFOK\n",
            "KDNSMAHC\n",
            "QTANUPDP\n",
            "WGZWXCAZ\n",
            "JCAVTOWO\n",
            "HZSCMMOT\n"
          ]
        },
        {
          "metadata": {
            "tags": null
          },
          "name": "stderr",
          "output_type": "stream",
          "text": [
            "/usr/local/lib/python3.10/dist-packages/librosa/core/spectrum.py:266: UserWarning: n_fft=2048 is too large for input signal of length=1972\n",
            "  warnings.warn(\n"
          ]
        },
        {
          "metadata": {
            "tags": null
          },
          "name": "stdout",
          "output_type": "stream",
          "text": [
            "AEVVWNSS\n",
            "QDDCPOTP\n",
            "JSKNCBWT\n",
            "VBDYSBRB\n",
            "AIAEQDZT\n",
            "VLJWJSJA\n",
            "CAJBBDGE\n",
            "PKQTMYSJ\n",
            "CILDWOEA\n",
            "RCKSGRZU\n",
            "FTQQDOIM\n",
            "XBMYMBNI\n",
            "GOPVPXYE\n",
            "FBINBZWT\n",
            "FGGZCWFV\n",
            "DNDKRUID\n",
            "OKKURGBW\n",
            "TDBTOYWI\n",
            "XTBNODYV\n",
            "XXPRRNNB\n",
            "TWJITJJK\n",
            "JPGVRSKH\n",
            "EKOHCANS\n",
            "MRCAUGQD\n",
            "IFEZNKJP\n",
            "ZWOBBPQH\n",
            "CBTOQZAE\n",
            "QNLEWKPH\n",
            "PKUZJUOW\n",
            "EWGIZLWB\n",
            "PZIXLYOY\n"
          ]
        },
        {
          "metadata": {
            "tags": null
          },
          "name": "stderr",
          "output_type": "stream",
          "text": [
            "/usr/local/lib/python3.10/dist-packages/librosa/core/spectrum.py:266: UserWarning: n_fft=2048 is too large for input signal of length=909\n",
            "  warnings.warn(\n",
            "/usr/local/lib/python3.10/dist-packages/librosa/core/spectrum.py:266: UserWarning: n_fft=2048 is too large for input signal of length=1306\n",
            "  warnings.warn(\n"
          ]
        },
        {
          "metadata": {
            "tags": null
          },
          "name": "stdout",
          "output_type": "stream",
          "text": [
            "VEZLFNEL\n",
            "XOFYAGOX\n",
            "HCZZQPKF\n",
            "JHIFUBTN\n",
            "MYWFDEIO\n",
            "PYJRHKQL\n",
            "HPBOLRXN\n",
            "JYDGBSYL\n",
            "QTPIOXBP\n",
            "IOZVRELD\n",
            "TVBNLTWK\n",
            "POFSFOUV\n",
            "OCWHDAAF\n",
            "REXOHNHU\n",
            "HPEJPIRC\n",
            "CAUFHZEE\n",
            "XDMUAMWN\n",
            "HBXGTLVD\n",
            "UYESHKIZ\n",
            "XCZYMKHV\n",
            "LUQKGBJU\n"
          ]
        },
        {
          "metadata": {
            "tags": null
          },
          "name": "stderr",
          "output_type": "stream",
          "text": [
            "/usr/local/lib/python3.10/dist-packages/librosa/core/spectrum.py:266: UserWarning: n_fft=2048 is too large for input signal of length=1690\n",
            "  warnings.warn(\n"
          ]
        },
        {
          "metadata": {
            "tags": null
          },
          "name": "stdout",
          "output_type": "stream",
          "text": [
            "IISJGBHF\n"
          ]
        },
        {
          "metadata": {
            "tags": null
          },
          "name": "stderr",
          "output_type": "stream",
          "text": [
            "/usr/local/lib/python3.10/dist-packages/librosa/core/spectrum.py:266: UserWarning: n_fft=2048 is too large for input signal of length=1767\n",
            "  warnings.warn(\n"
          ]
        },
        {
          "metadata": {
            "tags": null
          },
          "name": "stdout",
          "output_type": "stream",
          "text": [
            "HYVVAWMV\n",
            "PLYCCWYO\n",
            "VYMBASHB\n",
            "BKCTERDN\n",
            "QASKTBON\n",
            "HKIDSGWC\n",
            "KPTENCMG\n",
            "NUXMKRTG\n",
            "YABQTANE\n",
            "CMMJYEXY\n",
            "VFMLUBVA\n",
            "AXXYUZNB\n",
            "ITUVXRGB\n",
            "MPTKQFYC\n",
            "CHPEIPIH\n",
            "CWOOGTGM\n",
            "BGQINZDF\n",
            "BQAFNMCP\n",
            "KHBVGVRW\n",
            "AKZNODSB\n",
            "MKNEBWST\n",
            "GZGAYWBV\n",
            "KTWEOGEF\n",
            "ZBSUMCIO\n",
            "VVUGGXWW\n",
            "ESAJHQUY\n",
            "FISKGDQI\n",
            "QCSVTKAG\n",
            "NIPDEULM\n",
            "FYMQUHLA\n",
            "AQPORRMJ\n",
            "FMIQSEEK\n",
            "AQYCPTGU\n",
            "QGLJOBJY\n",
            "ZMOCHYWQ\n",
            "ZDQBWRHT\n",
            "ONANMZAM\n",
            "EFGPFZEK\n",
            "WBHPRNAP\n",
            "PQOANEDF\n",
            "RVEBFGPA\n",
            "JABBZRHY\n",
            "RNRWJMQY\n",
            "TIKMUJBL\n",
            "KFNSNSYN\n",
            "FBGTCZDE\n",
            "FZOBENWW\n",
            "BMPQEXLH\n",
            "XBAINOHF\n",
            "EQBWYXXN\n",
            "KRFGQQOT\n",
            "NGDWKOJW\n",
            "FRYSHWOF\n",
            "LUWHROSH\n",
            "XUDJFRGQ\n",
            "VMVKRXVL\n",
            "YJDSGPWL\n"
          ]
        },
        {
          "metadata": {
            "tags": null
          },
          "name": "stderr",
          "output_type": "stream",
          "text": [
            "/usr/local/lib/python3.10/dist-packages/librosa/core/spectrum.py:266: UserWarning: n_fft=2048 is too large for input signal of length=986\n",
            "  warnings.warn(\n"
          ]
        },
        {
          "metadata": {
            "tags": null
          },
          "name": "stdout",
          "output_type": "stream",
          "text": [
            "CDKOVAAF\n",
            "BFLCOJQF\n",
            "EAKGCVDI\n",
            "ZTYKLVVK\n",
            "MSBVHAZR\n",
            "AEKPKDAQ\n",
            "QDJYGTTH\n",
            "ORFSQAOL\n",
            "SFFACVGJ\n",
            "BAHAIBOR\n",
            "ZVDOEVEZ\n",
            "JCQYJDPD\n",
            "CXPCODCN\n",
            "DMPHGMRR\n",
            "GEOVUQZY\n",
            "ZAMULFCD\n",
            "NKJBUQCM\n",
            "LJDZFUDF\n",
            "IJJRDWYC\n",
            "TWRYLYTW\n",
            "TLPYAZFN\n",
            "TUZJZIEN\n",
            "ZKHTQNVS\n",
            "SFNJPWPN\n",
            "DNJLMNSQ\n",
            "FDMTSKPE\n",
            "HUDPGNFQ\n",
            "VSFMQRIN\n",
            "PNZLKRBL\n",
            "HUCGUQGH\n",
            "YNMPOWMJ\n",
            "DHJQCQRM\n",
            "WOSMSWIS\n",
            "KMOXPLUW\n",
            "GQTXDFXJ\n",
            "RENULYPT\n",
            "CHFOOVXI\n",
            "UKCBKMQI\n"
          ]
        },
        {
          "metadata": {
            "tags": null
          },
          "name": "stderr",
          "output_type": "stream",
          "text": [
            "/usr/local/lib/python3.10/dist-packages/librosa/core/spectrum.py:266: UserWarning: n_fft=2048 is too large for input signal of length=1344\n",
            "  warnings.warn(\n"
          ]
        },
        {
          "metadata": {
            "tags": null
          },
          "name": "stdout",
          "output_type": "stream",
          "text": [
            "WNNQZYNF\n",
            "QGYDKYQQ\n",
            "XOEMICRX\n",
            "SLDFYASD\n",
            "ISIFMIBD\n",
            "YJPRNDYV\n",
            "XQVWVWZA\n",
            "MCKUCVCT\n",
            "MUHWKEZJ\n",
            "PPZYQLAE\n",
            "RFOTZFAP\n",
            "KAINOELW\n",
            "JLFHIEXD\n",
            "MIQXTRFE\n",
            "ILDGBTKL\n",
            "CILWQDUL\n",
            "CYQWSHIY\n",
            "LSINIRUQ\n",
            "OQRBAXQB\n",
            "ILTNBDSW\n",
            "MRPWKEZE\n",
            "AFMGBOAW\n",
            "UTRLGUCS\n",
            "BLIXBFUJ\n",
            "BEZPREAA\n",
            "BPYMHHWL\n",
            "WNMVYPYC\n",
            "CEGWOSJH\n",
            "OPCIRRLE\n",
            "TSKYEVMV\n"
          ]
        },
        {
          "metadata": {
            "tags": null
          },
          "name": "stderr",
          "output_type": "stream",
          "text": [
            "/usr/local/lib/python3.10/dist-packages/librosa/core/spectrum.py:266: UserWarning: n_fft=2048 is too large for input signal of length=1844\n",
            "  warnings.warn(\n"
          ]
        },
        {
          "metadata": {
            "tags": null
          },
          "name": "stdout",
          "output_type": "stream",
          "text": [
            "NTMWMAKP\n",
            "PMFTVRRS\n",
            "HHICXDDX\n",
            "VAWXIJDH\n",
            "RATHNBXM\n",
            "NKRCUEMH\n",
            "CVVXCBXQ\n",
            "YDCZWUOH\n",
            "QGFCKCMR\n",
            "PVOBFOGQ\n",
            "WBZAAXVF\n",
            "KDTFWVIN\n",
            "HRAMCPHD\n",
            "TSZUKQEY\n",
            "WURNMMKC\n",
            "SLEAVGLQ\n",
            "OQEKLFQD\n",
            "HDNGEKSR\n"
          ]
        },
        {
          "metadata": {
            "tags": null
          },
          "name": "stderr",
          "output_type": "stream",
          "text": [
            "/usr/local/lib/python3.10/dist-packages/librosa/core/spectrum.py:266: UserWarning: n_fft=2048 is too large for input signal of length=1639\n",
            "  warnings.warn(\n"
          ]
        },
        {
          "metadata": {
            "tags": null
          },
          "name": "stdout",
          "output_type": "stream",
          "text": [
            "CEESRFAY\n",
            "NCOVLAVX\n",
            "WJYRNUDG\n",
            "FUFAQZZF\n",
            "GGRHQOKX\n",
            "HNRZFYVZ\n",
            "YFIRDUDE\n",
            "ZHBVQRYX\n"
          ]
        },
        {
          "metadata": {
            "tags": null
          },
          "name": "stderr",
          "output_type": "stream",
          "text": [
            "/usr/local/lib/python3.10/dist-packages/librosa/core/spectrum.py:266: UserWarning: n_fft=2048 is too large for input signal of length=1946\n",
            "  warnings.warn(\n"
          ]
        },
        {
          "metadata": {
            "tags": null
          },
          "name": "stdout",
          "output_type": "stream",
          "text": [
            "PSJPQAEO\n",
            "DQZJUHKF\n",
            "JSZMZDPR\n",
            "VLUGCLGQ\n",
            "OUJTPFFY\n",
            "QXIZREKM\n",
            "WKPYQEPK\n",
            "NODJFFZA\n",
            "ILFDYDWF\n",
            "MCPGSBRU\n",
            "THMGPHOF\n",
            "FVHRHOZO\n",
            "TEOWORGS\n",
            "YEXLSOIQ\n",
            "QJNDSOVZ\n",
            "FBQPAXSW\n",
            "ZWPLLIDN\n"
          ]
        },
        {
          "metadata": {
            "tags": null
          },
          "name": "stderr",
          "output_type": "stream",
          "text": [
            "/usr/local/lib/python3.10/dist-packages/librosa/core/spectrum.py:266: UserWarning: n_fft=2048 is too large for input signal of length=1421\n",
            "  warnings.warn(\n"
          ]
        },
        {
          "metadata": {
            "tags": null
          },
          "name": "stdout",
          "output_type": "stream",
          "text": [
            "ULFDXYAB\n",
            "OBJXHJNV\n"
          ]
        },
        {
          "metadata": {
            "tags": null
          },
          "name": "stderr",
          "output_type": "stream",
          "text": [
            "/usr/local/lib/python3.10/dist-packages/librosa/core/spectrum.py:266: UserWarning: n_fft=2048 is too large for input signal of length=1511\n",
            "  warnings.warn(\n"
          ]
        },
        {
          "metadata": {
            "tags": null
          },
          "name": "stdout",
          "output_type": "stream",
          "text": [
            "LOVHVSMD\n",
            "CPANEIEB\n",
            "RXUBUCCN\n",
            "LFIBGWEJ\n",
            "ELKRANRQ\n",
            "LNMVQXHA\n",
            "WIFHVYIP\n",
            "NMIAEGCX\n",
            "PJLJEORH\n",
            "ZMFAELDN\n",
            "VWJFOBTG\n",
            "GZSOKKGU\n",
            "BJZNZTMY\n",
            "KECMMMNP\n",
            "TFPVBTJK\n",
            "MYQKATFS\n"
          ]
        },
        {
          "metadata": {
            "tags": null
          },
          "name": "stderr",
          "output_type": "stream",
          "text": [
            "/usr/local/lib/python3.10/dist-packages/librosa/core/spectrum.py:266: UserWarning: n_fft=2048 is too large for input signal of length=1280\n",
            "  warnings.warn(\n"
          ]
        },
        {
          "metadata": {
            "tags": null
          },
          "name": "stdout",
          "output_type": "stream",
          "text": [
            "AWLIQFHX\n",
            "DMILFZNV\n",
            "FPRJSKVG\n",
            "GXUQHPPN\n",
            "QMEFBDBH\n",
            "UIKPAYTQ\n",
            "JPDVYSGP\n",
            "VSOQCRRM\n",
            "WSGPSGGD\n"
          ]
        },
        {
          "metadata": {
            "tags": null
          },
          "name": "stderr",
          "output_type": "stream",
          "text": [
            "/usr/local/lib/python3.10/dist-packages/librosa/core/spectrum.py:266: UserWarning: n_fft=2048 is too large for input signal of length=1626\n",
            "  warnings.warn(\n"
          ]
        },
        {
          "metadata": {
            "tags": null
          },
          "name": "stdout",
          "output_type": "stream",
          "text": [
            "VFYJDSHE\n",
            "WDEZVJVD\n",
            "MXPLZZHQ\n",
            "XJKRNFZY\n"
          ]
        },
        {
          "metadata": {
            "tags": null
          },
          "name": "stderr",
          "output_type": "stream",
          "text": [
            "/usr/local/lib/python3.10/dist-packages/librosa/core/spectrum.py:266: UserWarning: n_fft=2048 is too large for input signal of length=1959\n",
            "  warnings.warn(\n"
          ]
        },
        {
          "metadata": {
            "tags": null
          },
          "name": "stdout",
          "output_type": "stream",
          "text": [
            "KWPAYCJY\n",
            "PYAQLXFV\n",
            "EUANSICC\n",
            "RKPEMSJZ\n",
            "FNJTPUTE\n",
            "MJWDQQMZ\n",
            "XRAYBFVF\n",
            "DBXEBUVF\n",
            "MAQNUZTX\n",
            "YNXJUZLA\n",
            "KLVYKAQX\n",
            "ZZMCBPNY\n",
            "SWLXYKOA\n",
            "PICKYGGB\n",
            "SDNWKUNV\n",
            "YGBLGZEF\n",
            "OZRROOCL\n",
            "EFVTSQNK\n",
            "ZSNOUBNJ\n",
            "ZBMFULWZ\n",
            "KFOWNALN\n",
            "KIOUCLNC\n",
            "PBMZKAMG\n",
            "PBVRFNMC\n",
            "YGWHDXWN\n",
            "JREHYICU\n",
            "DJGRCEOS\n",
            "ASGERLCQ\n",
            "VVZDPYMS\n",
            "CSWGJXWP\n",
            "RFDLXSQR\n",
            "EADSJIPK\n",
            "KKUXVCWL\n",
            "MRVTUMNZ\n",
            "BGQKVUHH\n",
            "MRRLIWHA\n",
            "GRQNNTXK\n",
            "LBJXCOQG\n",
            "XLSGYZFW\n",
            "SWSNHYXQ\n",
            "FBFXHWRE\n",
            "NRIKZRIX\n",
            "AGVUCEHF\n",
            "ZKADNZII\n",
            "DDZQLYQB\n",
            "YTHOSZYQ\n",
            "IABKNPNG\n",
            "BOGBJKJR\n",
            "BRFBRYNH\n",
            "ZKZJWUUK\n",
            "HGIMLAQT\n",
            "KIYVGTOH\n",
            "COOXTATD\n",
            "MTWGTXLO\n",
            "SSCKVNDN\n",
            "FGTNZSTY\n",
            "RBBOQYEV\n",
            "CGIBOVKK\n",
            "DQEMIVYM\n",
            "CZXZWJOY\n",
            "KIOIRSIP\n",
            "CTYJXVRA\n",
            "RNULDCCD\n",
            "GIOMHKGH\n",
            "DHGQCKVV\n",
            "QJQJBBZN\n",
            "QRSGHRRE\n",
            "TXLCWXKB\n",
            "LOKISRFN\n",
            "SJQBYREA\n",
            "PKFFCBBV\n",
            "JYGPPNLO\n",
            "ZUHFTYAC\n",
            "DGVBOXRD\n",
            "EWLUREWH\n",
            "GCJFDYCF\n",
            "KWBDTRUO\n",
            "CTVXCLUT\n",
            "IOXRXLGN\n",
            "XWMNUSQF\n",
            "MTKDWKLF\n",
            "RCUOLUZF\n",
            "YOQQZIMH\n",
            "RDACIDXE\n",
            "TUIUXGMR\n",
            "TFVKGBYX\n",
            "HJGWRTCO\n",
            "UQPZHUKM\n",
            "XUGFKOZJ\n",
            "WEOSJWAR\n",
            "LKKFKPCL\n",
            "DGHMRMCD\n",
            "BLPXKKFI\n"
          ]
        },
        {
          "metadata": {
            "tags": null
          },
          "name": "stderr",
          "output_type": "stream",
          "text": [
            "/usr/local/lib/python3.10/dist-packages/librosa/core/spectrum.py:266: UserWarning: n_fft=2048 is too large for input signal of length=832\n",
            "  warnings.warn(\n"
          ]
        },
        {
          "metadata": {
            "tags": null
          },
          "name": "stdout",
          "output_type": "stream",
          "text": [
            "XEQWVUAB\n"
          ]
        },
        {
          "metadata": {
            "tags": null
          },
          "name": "stderr",
          "output_type": "stream",
          "text": [
            "/usr/local/lib/python3.10/dist-packages/librosa/core/spectrum.py:266: UserWarning: n_fft=2048 is too large for input signal of length=1165\n",
            "  warnings.warn(\n"
          ]
        },
        {
          "metadata": {
            "tags": null
          },
          "name": "stdout",
          "output_type": "stream",
          "text": [
            "AWBEGKDR\n",
            "SGISFSZA\n",
            "GSCDSZVF\n",
            "RCNCGHRA\n"
          ]
        },
        {
          "metadata": {
            "tags": null
          },
          "name": "stderr",
          "output_type": "stream",
          "text": [
            "/usr/local/lib/python3.10/dist-packages/librosa/core/spectrum.py:266: UserWarning: n_fft=2048 is too large for input signal of length=1677\n",
            "  warnings.warn(\n"
          ]
        },
        {
          "output_type": "stream",
          "name": "stdout",
          "text": [
            "VDYIGEGY\n",
            "ILQLERFN\n",
            "JLISAUWH\n",
            "WXWPGFPH\n",
            "RCROGMKQ\n",
            "YAFNLTYD\n",
            "IFPRPNRB\n",
            "VVXAOBIQ\n",
            "RSNVHYQJ\n",
            "FGYDTCSG\n",
            "RTHBTMSA\n",
            "FXTZOQME\n",
            "VBIAHODB\n",
            "KXYGVTKN\n",
            "EJVCCKSN\n",
            "IMVMQMPG\n",
            "PADSFUKF\n"
          ]
        }
      ]
    },
    {
      "cell_type": "code",
      "source": [
        "ID_to_featureVector('YAFNLTYD', train=True)"
      ],
      "metadata": {
        "colab": {
          "base_uri": "https://localhost:8080/"
        },
        "id": "51GABXp8gp_g",
        "outputId": "d8c10bf9-ca9d-446e-92c7-c1f1a5b6879a"
      },
      "execution_count": null,
      "outputs": [
        {
          "output_type": "stream",
          "name": "stderr",
          "text": [
            "/usr/local/lib/python3.10/dist-packages/noisereduce/spectralgate/nonstationary.py:70: RuntimeWarning: invalid value encountered in divide\n",
            "  sig_mult_above_thresh = (abs_sig_stft - sig_stft_smooth) / sig_stft_smooth\n"
          ]
        },
        {
          "output_type": "execute_result",
          "data": {
            "text/plain": [
              "[[array([ 8.50879442e-05, -2.43988543e-05, -1.03736274e-04, ...,\n",
              "         -4.37469062e-05, -8.44547867e-06,  3.85009553e-05], dtype=float32),\n",
              "  22050,\n",
              "  1],\n",
              " [array([1.1119612e-08, 5.6283880e-09, 2.1412763e-09, ..., 8.0966748e-07,\n",
              "         8.4774325e-07, 4.4400770e-07], dtype=float32),\n",
              "  22050,\n",
              "  1],\n",
              " [array([-2.5313232e-06, -3.0254421e-06, -3.7649718e-06, ...,\n",
              "          1.6062770e-14,  2.3538700e-14,  3.0370458e-14], dtype=float32),\n",
              "  22050,\n",
              "  1],\n",
              " [array([ 3.8236496e-07,  3.8537010e-07,  5.1120418e-07, ...,\n",
              "         -9.8426472e-07, -9.5973439e-07, -9.3361092e-07], dtype=float32),\n",
              "  22050,\n",
              "  1],\n",
              " [array([1.9477568e-08, 1.4709797e-08, 1.8436301e-08, ..., 1.0738692e-07,\n",
              "         7.7865835e-08, 3.3207439e-08], dtype=float32),\n",
              "  22050,\n",
              "  1],\n",
              " [array([ 4.2106092e-04,  3.6628955e-04,  2.6701743e-04, ...,\n",
              "         -7.4518164e-07, -1.0256946e-06, -1.0633938e-06], dtype=float32),\n",
              "  22050,\n",
              "  1],\n",
              " [array([ 3.9121002e-18,  2.9570079e-14,  1.0819467e-13, ...,\n",
              "          7.9971952e-14, -2.5236760e-13, -1.3834783e-13], dtype=float32),\n",
              "  22050,\n",
              "  1],\n",
              " [array([-5.9273039e-23, -1.3375115e-15,  9.4534976e-16, ...,\n",
              "          1.4958194e-10,  8.3978019e-11,  4.5862286e-11], dtype=float32),\n",
              "  22050,\n",
              "  1],\n",
              " [array([-1.7605722e-18, -5.2446515e-14, -2.8853769e-13, ...,\n",
              "          8.1670469e-12,  5.9136012e-12,  1.6599544e-12], dtype=float32),\n",
              "  22050,\n",
              "  1],\n",
              " [array([ 4.1651069e-06, -6.9260968e-05, -5.0651372e-05, ...,\n",
              "          3.1163054e-05,  3.2147127e-05, -7.8164221e-06], dtype=float32),\n",
              "  22050,\n",
              "  1],\n",
              " [array([-1.3563450e-05, -1.6562843e-05, -1.9031024e-05, ...,\n",
              "          2.7369768e-05,  1.9051771e-05,  2.5162985e-06], dtype=float32),\n",
              "  22050,\n",
              "  1],\n",
              " [array([-1.1554837e-06, -2.0932266e-06, -1.9947672e-06, ...,\n",
              "         -9.4452736e-07, -9.5666996e-07, -9.5728137e-07], dtype=float32),\n",
              "  22050,\n",
              "  1],\n",
              " [array([3.0728611e-09, 1.3211284e-08, 1.7470784e-08, ..., 8.5264901e-06,\n",
              "         8.0587079e-06, 7.5912690e-06], dtype=float32),\n",
              "  22050,\n",
              "  1],\n",
              " [array([ 4.1260340e-05,  4.3102368e-06, -9.5347095e-06, ...,\n",
              "         -1.0771485e-06, -2.3854940e-07,  1.3165696e-06], dtype=float32),\n",
              "  22050,\n",
              "  1],\n",
              " [array([ 1.1872347e-05, -4.7524692e-05, -7.9161058e-05, ...,\n",
              "          1.0115763e-04,  9.4732997e-05,  8.1129729e-05], dtype=float32),\n",
              "  22050,\n",
              "  1],\n",
              " [array([-1.02858197e-04, -6.13952579e-06,  9.42091283e-05, ...,\n",
              "         -1.37414419e-04, -2.87749863e-05,  1.02216545e-04], dtype=float32),\n",
              "  22050,\n",
              "  1],\n",
              " [array([2.7344038e-07, 2.8109523e-07, 3.0296883e-07, ..., 7.7549012e-06,\n",
              "         7.9413594e-06, 8.0578502e-06], dtype=float32),\n",
              "  22050,\n",
              "  1],\n",
              " [array([6.7376291e-08, 7.1990812e-08, 5.8244236e-08, ..., 1.3488313e-06,\n",
              "         1.5983850e-06, 1.8295150e-06], dtype=float32),\n",
              "  22050,\n",
              "  1],\n",
              " [array([ 6.7969017e-09,  3.3817036e-09,  9.3261532e-10, ...,\n",
              "         -1.0072335e-06, -3.6596150e-06, -5.3780368e-06], dtype=float32),\n",
              "  22050,\n",
              "  1],\n",
              " [array([-8.0307991e-08, -8.0985338e-08, -8.0400035e-08, ...,\n",
              "          1.2194579e-06, -1.9094598e-07, -9.4023996e-08], dtype=float32),\n",
              "  22050,\n",
              "  1],\n",
              " [array([-5.5765992e-09, -1.3365873e-09, -1.7252544e-09, ...,\n",
              "          8.3771482e-07, -1.2583334e-06,  1.0991271e-06], dtype=float32),\n",
              "  22050,\n",
              "  1],\n",
              " [array([-2.4105618e-09, -6.3382801e-09, -4.2078274e-09, ...,\n",
              "         -2.7803748e-07, -2.1237337e-07,  3.6697139e-07], dtype=float32),\n",
              "  22050,\n",
              "  1],\n",
              " [array([ 5.4268341e-09,  6.2253651e-09,  5.6112750e-09, ...,\n",
              "          2.6401366e-07, -2.7059522e-07,  2.5314398e-07], dtype=float32),\n",
              "  22050,\n",
              "  1],\n",
              " [array([-1.4572051e-09, -3.0310328e-09, -6.8938799e-10, ...,\n",
              "          1.4948458e-10,  2.2295141e-10,  1.9578870e-10], dtype=float32),\n",
              "  22050,\n",
              "  1],\n",
              " [array([-1.1527461e-09,  2.1202216e-09,  2.0489379e-09, ...,\n",
              "         -1.9720241e-12,  4.7300944e-11, -3.8635466e-11], dtype=float32),\n",
              "  22050,\n",
              "  1],\n",
              " [array([-4.32416575e-10, -2.59909827e-09, -4.91958585e-10, ...,\n",
              "         -1.44610155e-07, -1.16942935e-07, -1.26175152e-07], dtype=float32),\n",
              "  22050,\n",
              "  1],\n",
              " [array([ 1.44339168e-07,  1.25896605e-07,  1.02631496e-07, ...,\n",
              "          8.61042338e-07, -7.67439474e-07,  3.10086818e-07], dtype=float32),\n",
              "  22050,\n",
              "  1],\n",
              " [array([ 5.5103073e-09,  6.4425962e-09,  7.0781909e-09, ...,\n",
              "          4.9994005e-11, -3.7211789e-11,  2.4494805e-11], dtype=float32),\n",
              "  22050,\n",
              "  1],\n",
              " [array([ 4.1012176e-11, -1.2252596e-10, -1.9197811e-10, ...,\n",
              "          8.9748960e-07,  3.2835061e-07,  7.3111431e-07], dtype=float32),\n",
              "  22050,\n",
              "  1],\n",
              " [array([-3.1254930e-09, -7.3233584e-09, -7.0195192e-09, ...,\n",
              "          5.4298454e-08, -4.3366494e-08, -4.3351442e-09], dtype=float32),\n",
              "  22050,\n",
              "  1],\n",
              " [array([ 5.7234602e-11, -4.5311203e-11, -1.0935267e-10, ...,\n",
              "         -1.6470574e-07,  1.6677296e-07, -7.0432456e-08], dtype=float32),\n",
              "  22050,\n",
              "  1],\n",
              " [array([ 1.0205774e-11, -3.2666844e-12,  1.7460408e-11, ...,\n",
              "          1.7371049e-05,  2.0989382e-05,  1.9234525e-05], dtype=float32),\n",
              "  22050,\n",
              "  1],\n",
              " [array([ 2.8141661e-10,  2.7569804e-09,  2.0887805e-09, ...,\n",
              "          4.7311101e-08, -2.2800035e-07,  1.6889655e-07], dtype=float32),\n",
              "  22050,\n",
              "  1],\n",
              " [array([-6.2925574e-11, -3.0329409e-11, -3.8874744e-11, ...,\n",
              "          4.9959696e-11,  9.8783065e-11,  1.8804494e-11], dtype=float32),\n",
              "  22050,\n",
              "  1],\n",
              " [array([ 2.7758633e-08,  5.5237724e-08, -3.4394422e-08, ...,\n",
              "          9.1889312e-08, -4.4098371e-08, -2.2464818e-08], dtype=float32),\n",
              "  22050,\n",
              "  1],\n",
              " [array([-1.0876657e-08, -2.0358600e-08, -3.9716985e-09, ...,\n",
              "         -5.4096125e-07, -7.1946556e-07, -3.5063096e-07], dtype=float32),\n",
              "  22050,\n",
              "  1],\n",
              " [array([3.5964140e-10, 1.9588524e-09, 2.4409230e-09, ..., 1.3813862e-05,\n",
              "         2.6516222e-05, 3.5705729e-05], dtype=float32),\n",
              "  22050,\n",
              "  1],\n",
              " [array([-1.1995277e-08, -1.3908515e-08, -1.6049841e-08, ...,\n",
              "         -9.8589214e-07,  3.7703688e-07, -1.2135321e-07], dtype=float32),\n",
              "  22050,\n",
              "  1],\n",
              " [array([ 1.9691258e-10,  1.5202402e-10,  2.7560796e-11, ...,\n",
              "         -1.3508239e-06,  3.5596966e-07,  3.4744920e-07], dtype=float32),\n",
              "  22050,\n",
              "  1],\n",
              " [array([-5.8384515e-16,  1.4014958e-13,  6.2592423e-13, ...,\n",
              "         -1.1003065e-09,  5.1609406e-09, -1.2105488e-08], dtype=float32),\n",
              "  22050,\n",
              "  1],\n",
              " [array([-3.0934064e-20, -9.2447768e-15, -5.0807716e-14, ...,\n",
              "          9.8370743e-09, -2.5586440e-09, -6.5831363e-09], dtype=float32),\n",
              "  22050,\n",
              "  1],\n",
              " [array([-3.00671752e-19, -1.25174021e-15, -6.48356965e-15, ...,\n",
              "          1.06660245e-07, -1.17394819e-07,  8.72673596e-08], dtype=float32),\n",
              "  22050,\n",
              "  1],\n",
              " [array([-4.0470964e-12, -1.2452022e-11, -1.5151334e-10, ...,\n",
              "         -5.9624319e-09,  7.2081758e-09, -4.3562571e-09], dtype=float32),\n",
              "  22050,\n",
              "  1],\n",
              " [array([-2.0818131e-06, -2.2450847e-06, -9.0704111e-07, ...,\n",
              "         -1.2046814e-12, -2.0879117e-12, -5.4661684e-13], dtype=float32),\n",
              "  22050,\n",
              "  1],\n",
              " [array([ 7.7641024e-13, -2.3898163e-11, -3.3943254e-12, ...,\n",
              "         -7.5049174e-13, -2.5148457e-13, -3.6331522e-15], dtype=float32),\n",
              "  22050,\n",
              "  1],\n",
              " [array([ 2.1281288e-12,  1.7059043e-11,  1.0383915e-10, ...,\n",
              "          1.6905942e-07, -8.1221621e-08,  1.2153599e-07], dtype=float32),\n",
              "  22050,\n",
              "  1],\n",
              " [array([-7.1757918e-23, -1.5520810e-15, -5.5159971e-15, ...,\n",
              "          3.0909757e-11,  2.5636028e-11, -5.1296564e-11], dtype=float32),\n",
              "  22050,\n",
              "  1],\n",
              " [array([-2.8864090e-12,  8.5388162e-11,  3.3922720e-10, ...,\n",
              "         -3.3319771e-12,  2.0149147e-12,  1.2419977e-12], dtype=float32),\n",
              "  22050,\n",
              "  1],\n",
              " [array([ 7.9724629e-21,  1.0033087e-15,  6.3731047e-15, ...,\n",
              "         -7.3240926e-07, -7.1060578e-07, -7.0818373e-07], dtype=float32),\n",
              "  22050,\n",
              "  1],\n",
              " [array([ 4.6820669e-11,  1.4680226e-10,  4.9975557e-10, ...,\n",
              "          1.5933946e-09, -1.4234276e-09,  9.3202501e-10], dtype=float32),\n",
              "  22050,\n",
              "  1],\n",
              " [array([-4.9528425e-21, -2.2316881e-15, -1.3695599e-14, ...,\n",
              "         -3.1862296e-08,  1.9279913e-08, -1.5922096e-08], dtype=float32),\n",
              "  22050,\n",
              "  1],\n",
              " [array([-1.0743195e-15,  1.1017232e-14,  1.3690494e-12, ...,\n",
              "          6.9354960e-06,  6.8458939e-06,  5.6461413e-06], dtype=float32),\n",
              "  22050,\n",
              "  1],\n",
              " [array([ 4.0852209e-12, -1.9293948e-11, -6.9851847e-11, ...,\n",
              "         -8.3598808e-09,  2.5549589e-08, -2.8157226e-08], dtype=float32),\n",
              "  22050,\n",
              "  1],\n",
              " [array([ 2.75212135e-14, -6.03447717e-12, -1.39085375e-11, ...,\n",
              "          2.44243506e-06, -7.06829451e-06, -1.07301048e-05], dtype=float32),\n",
              "  22050,\n",
              "  1],\n",
              " [array([ 2.0015942e-11, -2.0277556e-10,  7.7437562e-10, ...,\n",
              "         -2.3767582e-06, -2.4072622e-06, -2.3735988e-06], dtype=float32),\n",
              "  22050,\n",
              "  1],\n",
              " [array([-3.0325225e-11, -3.5688308e-10, -2.3929008e-09, ...,\n",
              "          2.0949913e-07,  3.3027985e-07,  1.6700024e-07], dtype=float32),\n",
              "  22050,\n",
              "  1],\n",
              " [array([ 1.02767384e-13, -4.93923695e-12, -3.56752301e-11, ...,\n",
              "         -4.54165502e-07, -2.92712411e-06, -4.27138184e-06], dtype=float32),\n",
              "  22050,\n",
              "  1],\n",
              " [array([ 7.6763679e-11, -1.6891381e-10, -9.2681313e-10, ...,\n",
              "         -1.7582449e-08,  1.0359041e-08, -5.3886435e-08], dtype=float32),\n",
              "  22050,\n",
              "  1],\n",
              " [array([-3.67830046e-17,  1.13355486e-15,  6.99211807e-15, ...,\n",
              "         -1.70392571e-08,  1.32059315e-08, -6.00229511e-09], dtype=float32),\n",
              "  22050,\n",
              "  1],\n",
              " [array([-1.5581560e-06, -1.6821306e-06, -1.8778716e-06, ...,\n",
              "         -1.9028645e-06, -2.9107825e-06, -2.1907538e-06], dtype=float32),\n",
              "  22050,\n",
              "  1],\n",
              " [array([-5.7735597e-06, -5.8415990e-06, -4.9577575e-06, ...,\n",
              "          3.0660542e-06,  1.3794248e-06,  2.8987517e-06], dtype=float32),\n",
              "  22050,\n",
              "  1],\n",
              " [array([2.8500033e-05, 2.7181079e-05, 4.4902822e-06, ..., 2.9000241e-06,\n",
              "         3.9267393e-06, 3.7795132e-06], dtype=float32),\n",
              "  22050,\n",
              "  1],\n",
              " [array([1.2073801e-06, 1.1562346e-06, 1.8122306e-07, ..., 3.4973652e-06,\n",
              "         4.4150297e-06, 3.7599939e-06], dtype=float32),\n",
              "  22050,\n",
              "  1],\n",
              " [array([-1.6150447e-06,  1.3578048e-06,  6.9155698e-07, ...,\n",
              "         -1.2889210e-06, -4.1488522e-07, -5.8637903e-07], dtype=float32),\n",
              "  22050,\n",
              "  1],\n",
              " [array([-3.3055201e-06,  9.5851892e-06,  1.1769137e-05, ...,\n",
              "          1.5379534e-07,  2.6305506e-07, -8.5908795e-07], dtype=float32),\n",
              "  22050,\n",
              "  1],\n",
              " [array([ 3.4602947e-06,  4.8984398e-06, -9.2258205e-07, ...,\n",
              "          7.9715737e-06,  7.7368422e-06,  7.5822009e-06], dtype=float32),\n",
              "  22050,\n",
              "  1],\n",
              " [array([-3.2939117e-06, -4.5493312e-06, -6.1108931e-06, ...,\n",
              "         -7.6986794e-08,  1.9719193e-06,  1.3518057e-06], dtype=float32),\n",
              "  22050,\n",
              "  1],\n",
              " [array([-3.9126471e-06, -3.9657757e-06, -4.0721147e-06, ...,\n",
              "          2.3521700e-06,  1.0268196e-06, -1.2687622e-06], dtype=float32),\n",
              "  22050,\n",
              "  1],\n",
              " [array([ 1.5465149e-07,  3.1299873e-08, -4.9638842e-08, ...,\n",
              "         -2.8008393e-05, -2.8990595e-05, -3.1016683e-05], dtype=float32),\n",
              "  22050,\n",
              "  1],\n",
              " [array([-4.5008610e-06, -5.8421010e-06, -8.3906007e-06, ...,\n",
              "          3.6975025e-06,  3.7899997e-06,  3.9040578e-06], dtype=float32),\n",
              "  22050,\n",
              "  1],\n",
              " [array([ 8.6810871e-08, -2.3591866e-07, -4.2410861e-07, ...,\n",
              "         -1.9902509e-06, -3.3162298e-06, -5.2143264e-06], dtype=float32),\n",
              "  22050,\n",
              "  1],\n",
              " [array([-8.6159311e-08, -1.8179174e-08,  3.0142839e-08, ...,\n",
              "         -8.7140393e-07, -1.6003332e-06, -2.0714031e-06], dtype=float32),\n",
              "  22050,\n",
              "  1],\n",
              " [array([-9.1215306e-06, -1.7312932e-06,  5.5677215e-06, ...,\n",
              "          1.2442176e-07, -3.4143406e-07, -1.7926720e-07], dtype=float32),\n",
              "  22050,\n",
              "  1],\n",
              " [array([ 4.5758603e-05,  4.2683270e-05,  3.5843503e-05, ...,\n",
              "          3.6644303e-07, -1.3569305e-06, -1.7616450e-06], dtype=float32),\n",
              "  22050,\n",
              "  1],\n",
              " [array([-2.8219927e-06, -3.2706373e-07, -3.3079066e-06, ...,\n",
              "         -3.1763852e-07, -3.2541462e-07, -3.6126815e-07], dtype=float32),\n",
              "  22050,\n",
              "  1],\n",
              " [array([-2.4257411e-05,  2.8971548e-05,  3.6463785e-05, ...,\n",
              "         -1.5599172e-06, -2.0323771e-06, -1.9497436e-06], dtype=float32),\n",
              "  22050,\n",
              "  1],\n",
              " [array([-3.6274905e-05, -6.2703220e-06,  1.2493442e-05, ...,\n",
              "          4.4800967e-05,  3.9517097e-05,  2.2053575e-05], dtype=float32),\n",
              "  22050,\n",
              "  1],\n",
              " [array([-2.3736105e-07, -1.2727245e-06, -2.3180705e-06, ...,\n",
              "          4.9199878e-07,  1.0346381e-06,  1.2568081e-06], dtype=float32),\n",
              "  22050,\n",
              "  1],\n",
              " [array([-6.1487903e-08, -7.5309423e-08, -4.9332979e-08, ...,\n",
              "          1.0605519e-05,  9.7831332e-07, -8.9037158e-06], dtype=float32),\n",
              "  22050,\n",
              "  1],\n",
              " [array([1.01959295e-05, 1.03555549e-05, 1.03953971e-05, ...,\n",
              "         3.81776886e-07, 3.65671553e-07, 2.97429267e-07], dtype=float32),\n",
              "  22050,\n",
              "  1],\n",
              " [array([ 2.1404587e-06,  1.1844465e-06, -1.0386806e-07, ...,\n",
              "          2.9082055e-06,  2.9341650e-06,  2.3862399e-06], dtype=float32),\n",
              "  22050,\n",
              "  1],\n",
              " [array([ 2.3432212e-07,  4.0205896e-07,  4.3968413e-07, ...,\n",
              "         -8.7501185e-06, -1.0362071e-05, -1.0551357e-05], dtype=float32),\n",
              "  22050,\n",
              "  1],\n",
              " [array([ 3.7079099e-06, -1.8904762e-05, -4.0566832e-05, ...,\n",
              "          5.3967415e-06,  5.0460303e-06,  4.0741947e-06], dtype=float32),\n",
              "  22050,\n",
              "  1],\n",
              " [array([ 1.7972801e-05,  2.5797443e-05,  1.6706921e-05, ...,\n",
              "         -2.6672751e-06, -2.9017522e-06, -2.8325085e-06], dtype=float32),\n",
              "  22050,\n",
              "  1],\n",
              " [array([ 9.1366405e-07,  1.1429316e-06,  2.2164890e-07, ...,\n",
              "         -7.3415680e-07, -5.6091278e-07,  1.4579108e-07], dtype=float32),\n",
              "  22050,\n",
              "  1],\n",
              " [array([2.67020914e-06, 2.05568472e-06, 9.20406933e-08, ...,\n",
              "         1.53710462e-05, 1.45969452e-05, 1.40302745e-05], dtype=float32),\n",
              "  22050,\n",
              "  1],\n",
              " [array([ 8.7723592e-08,  4.2562277e-08, -6.6842256e-09, ...,\n",
              "         -8.2070898e-08,  7.6856503e-07,  5.0959392e-07], dtype=float32),\n",
              "  22050,\n",
              "  1],\n",
              " [array([-8.8688430e-06, -9.3910940e-06, -9.9086055e-06, ...,\n",
              "          6.5832575e-07,  8.2839125e-07,  6.2951068e-07], dtype=float32),\n",
              "  22050,\n",
              "  1],\n",
              " [array([-3.1384312e-07, -5.4028902e-07, -5.5102311e-07, ...,\n",
              "         -5.3417461e-06, -5.3536223e-06, -5.3551239e-06], dtype=float32),\n",
              "  22050,\n",
              "  1],\n",
              " [array([-7.5768303e-06, -7.4276304e-06, -7.5687922e-06, ...,\n",
              "          1.7722624e-06,  1.6825138e-06,  1.5505988e-06], dtype=float32),\n",
              "  22050,\n",
              "  1],\n",
              " [array([-2.4200082e-05, -1.5730653e-05, -3.5580451e-06, ...,\n",
              "          8.2245401e-07,  7.2963718e-07,  7.8546128e-07], dtype=float32),\n",
              "  22050,\n",
              "  1],\n",
              " [array([-6.1829020e-10,  3.3496296e-08,  5.9247473e-08, ...,\n",
              "         -4.0994215e-05, -1.5478201e-05,  1.1612713e-05], dtype=float32),\n",
              "  22050,\n",
              "  1],\n",
              " [array([-2.2792437e-06, -2.1585327e-06, -1.9616959e-06, ...,\n",
              "         -4.9734208e-06, -4.9516420e-06, -5.1369334e-06], dtype=float32),\n",
              "  22050,\n",
              "  1],\n",
              " [array([-1.51709846e-05, -1.43232137e-05, -1.34362563e-05, ...,\n",
              "         -9.10347262e-06, -1.34812653e-05, -1.18331445e-05], dtype=float32),\n",
              "  22050,\n",
              "  1],\n",
              " [array([ 2.1626551e-05,  1.6220136e-05, -7.6410906e-06, ...,\n",
              "         -7.3144538e-06, -7.4091522e-06, -7.6128135e-06], dtype=float32),\n",
              "  22050,\n",
              "  1],\n",
              " [array([-3.4454981e-06, -3.6747269e-06, -8.1865812e-07, ...,\n",
              "         -2.2969429e-05, -2.2986906e-05, -2.3103858e-05], dtype=float32),\n",
              "  22050,\n",
              "  1],\n",
              " [array([-1.3994560e-07, -1.4469265e-07, -1.3997132e-07, ...,\n",
              "          1.9855368e-05,  1.3049663e-05,  4.3785540e-06], dtype=float32),\n",
              "  22050,\n",
              "  1],\n",
              " [array([ 1.9742411e-05,  1.8235205e-05,  1.6510348e-05, ...,\n",
              "         -2.2668492e-06, -2.1773758e-06, -1.9971326e-06], dtype=float32),\n",
              "  22050,\n",
              "  1],\n",
              " [array([ 7.3884776e-10,  6.3202432e-10,  2.8411173e-10, ...,\n",
              "         -1.3878519e-06,  6.9258840e-07,  1.1968081e-06], dtype=float32),\n",
              "  22050,\n",
              "  1]]"
            ]
          },
          "metadata": {},
          "execution_count": 94
        }
      ]
    },
    {
      "cell_type": "code",
      "source": [],
      "metadata": {
        "id": "rJe7DrKvgv8B"
      },
      "execution_count": null,
      "outputs": []
    }
  ]
}